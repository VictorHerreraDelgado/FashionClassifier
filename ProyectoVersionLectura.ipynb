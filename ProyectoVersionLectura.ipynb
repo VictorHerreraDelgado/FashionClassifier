{
 "cells": [
  {
   "cell_type": "markdown",
   "metadata": {},
   "source": [
    "# Trabajo de Fin de grado"
   ]
  },
  {
   "cell_type": "markdown",
   "metadata": {},
   "source": [
    "# Nivel 1: Pruebas con la categoría maestra"
   ]
  },
  {
   "cell_type": "markdown",
   "metadata": {},
   "source": [
    "Primera version realizada de un clasificador para el dataset de kaggle. Se trata de una prueba inicial, que evolucionará a un mejor proyecto a medida que suba el nivel."
   ]
  },
  {
   "cell_type": "markdown",
   "metadata": {},
   "source": [
    "## Paso 1: Importación de librería e inicialización de variables globales\n"
   ]
  },
  {
   "cell_type": "code",
   "execution_count": 1,
   "metadata": {},
   "outputs": [],
   "source": [
    "import torch\n",
    "import torchvision\n",
    "import torchvision.transforms as transforms\n",
    "import matplotlib.pyplot as plt\n",
    "import numpy as np\n",
    "import torch.nn as nn\n",
    "import torch.nn.functional as F\n",
    "import torch.optim as optim\n",
    "from torch.utils.data import Dataset\n",
    "from torch.utils.data import DataLoader\n",
    "import PIL\n",
    "from PIL import Image\n",
    "import pandas as pd\n",
    "import os\n",
    "#import cv2\n",
    "import time\n",
    "import copy"
   ]
  },
  {
   "cell_type": "code",
   "execution_count": 2,
   "metadata": {},
   "outputs": [],
   "source": [
    "from torchvision import models\n",
    "from torch.optim import lr_scheduler\n",
    "import torch.optim as optim\n",
    "import skopt"
   ]
  },
  {
   "cell_type": "code",
   "execution_count": 3,
   "metadata": {},
   "outputs": [],
   "source": [
    "from livelossplot import PlotLosses"
   ]
  },
  {
   "cell_type": "code",
   "execution_count": 6,
   "metadata": {},
   "outputs": [],
   "source": [
    "DATA_PATH = \"C:/Users/Asus/Documents/4Informatica/TFT/Dataset/fashion-dataset/\"\n",
    "img_width, img_height, _ = 32, 32, 3\n",
    "image_size = (img_width, img_height)\n",
    "mean = [0.485, 0.456, 0.406]\n",
    "std = [0.229, 0.224, 0.225]\n",
    "transform = transforms.Compose([\n",
    "    transforms.Resize(image_size),\n",
    "    transforms.RandomHorizontalFlip(),\n",
    "    transforms.RandomRotation(20, resample=False, expand=False, center=None),\n",
    "    transforms.ToTensor(),\n",
    "    transforms.Normalize(mean, std)\n",
    "])"
   ]
  },
  {
   "cell_type": "markdown",
   "metadata": {},
   "source": [
    "---\n",
    "\n",
    "## Paso 2: La clase Dataset  \n",
    "---\n",
    "\n",
    "La clase TheDataset será la encargada no solo de cargar los datos sino de facilitar su acceso a ellos.  \n",
    "\n",
    "En este caso se clasificará por la categoría maestra."
   ]
  },
  {
   "cell_type": "code",
   "execution_count": 4,
   "metadata": {},
   "outputs": [
    {
     "ename": "SyntaxError",
     "evalue": "invalid syntax (<ipython-input-4-9f4385e52d48>, line 19)",
     "output_type": "error",
     "traceback": [
      "\u001b[0;36m  File \u001b[0;32m\"<ipython-input-4-9f4385e52d48>\"\u001b[0;36m, line \u001b[0;32m19\u001b[0m\n\u001b[0;31m    if !self.chargedInVGG:\u001b[0m\n\u001b[0m       ^\u001b[0m\n\u001b[0;31mSyntaxError\u001b[0m\u001b[0;31m:\u001b[0m invalid syntax\n"
     ]
    }
   ],
   "source": [
    "class TheDataset(Dataset):\n",
    "    def __init__(self,transform=None,division=None):\n",
    "        self.path= \"C:/Users/Asus/Documents/4Informatica/TFT/Dataset/fashion-dataset/\"\n",
    "        self.file_list = pd.read_csv(self.path + \"styles.csv\", error_bad_lines=False)\n",
    "        self.file_list['image'] =self.file_list.apply(lambda row: self.path + \"/images/\"+ str(row['id']) + \".jpg\", axis=1)\n",
    "        self.file_list = self.file_list.reset_index(drop=True)\n",
    "        self.division = division\n",
    "        self.classes= tuple(self.file_list[division].unique())\n",
    "        self.transform = transform\n",
    "        self.chargeTheDataset()\n",
    "        self.chargedInVGG = False\n",
    "        self.PreResults = []\n",
    "\n",
    "\n",
    "    def __len__(self):\n",
    "        return len(self.file_list)\n",
    "\n",
    "    def __getitem__(self,idx):\n",
    "        if !self.chargedInVGG:\n",
    "            return self.file_list[idx]\n",
    "        else:\n",
    "            return self.VGGResults[idx]\n",
    "    def chargePreResults(self,theNet):\n",
    "        \n",
    "        \n",
    "    def chargeTheDataset(self):\n",
    "        cont = 0\n",
    "        files=[]\n",
    "        for index, row in self.file_list.iterrows():\n",
    "            if cont % 5 == : \n",
    "                print(cont)\n",
    "            if not os.path.isfile(row['image']) : continue\n",
    "            img = Image.open(row['image'])\n",
    "            imgAndClass = []\n",
    "            imgAndClass.append(img)\n",
    "            if self.transform:\n",
    "                imgAndClass[0]= self.transform(img)\n",
    "            imgAndClass.append(self.classes.index(row[self.division]))\n",
    "            imgAndClass.append(row['image'])\n",
    "            files.append(imgAndClass)\n",
    "            cont += 1\n",
    "    \n",
    "\n",
    "        self.file_list = files\n",
    "        \n",
    "\n"
   ]
  },
  {
   "cell_type": "markdown",
   "metadata": {},
   "source": [
    "### Creación del objeto theDataset y de su dataloader\n",
    "\n",
    "El dataloader ayudará a la posterior red neuronal a coger los datos del dataset."
   ]
  },
  {
   "cell_type": "code",
   "execution_count": 6,
   "metadata": {},
   "outputs": [
    {
     "name": "stderr",
     "output_type": "stream",
     "text": [
      "b'Skipping line 6044: expected 10 fields, saw 11\\nSkipping line 6569: expected 10 fields, saw 11\\nSkipping line 7399: expected 10 fields, saw 11\\nSkipping line 7939: expected 10 fields, saw 11\\nSkipping line 9026: expected 10 fields, saw 11\\nSkipping line 10264: expected 10 fields, saw 11\\nSkipping line 10427: expected 10 fields, saw 11\\nSkipping line 10905: expected 10 fields, saw 11\\nSkipping line 11373: expected 10 fields, saw 11\\nSkipping line 11945: expected 10 fields, saw 11\\nSkipping line 14112: expected 10 fields, saw 11\\nSkipping line 14532: expected 10 fields, saw 11\\nSkipping line 15076: expected 10 fields, saw 12\\nSkipping line 29906: expected 10 fields, saw 11\\nSkipping line 31625: expected 10 fields, saw 11\\nSkipping line 33020: expected 10 fields, saw 11\\nSkipping line 35748: expected 10 fields, saw 11\\nSkipping line 35962: expected 10 fields, saw 11\\nSkipping line 37770: expected 10 fields, saw 11\\nSkipping line 38105: expected 10 fields, saw 11\\nSkipping line 38275: expected 10 fields, saw 11\\nSkipping line 38404: expected 10 fields, saw 12\\n'\n"
     ]
    },
    {
     "name": "stdout",
     "output_type": "stream",
     "text": [
      "999\n",
      "1999\n",
      "2999\n",
      "3999\n",
      "4999\n",
      "5999\n",
      "6999\n",
      "7999\n",
      "8999\n",
      "9999\n",
      "10999\n",
      "11999\n",
      "12999\n",
      "13999\n",
      "14999\n",
      "15999\n",
      "16999\n",
      "17999\n",
      "18999\n",
      "19999\n",
      "20999\n",
      "21999\n",
      "22999\n",
      "23999\n",
      "24999\n",
      "25999\n",
      "26999\n",
      "27999\n",
      "28999\n",
      "29999\n",
      "30999\n",
      "31999\n",
      "32999\n",
      "33999\n",
      "34999\n",
      "35999\n",
      "36999\n",
      "37999\n",
      "38999\n",
      "39999\n",
      "40999\n",
      "41999\n",
      "42999\n",
      "43999\n"
     ]
    }
   ],
   "source": [
    "theDataset = TheDataset(transform=transform,division=\"subCategory\")"
   ]
  },
  {
   "cell_type": "code",
   "execution_count": 7,
   "metadata": {},
   "outputs": [],
   "source": [
    "#DATALOADER\n",
    "shuffle = True\n",
    "batch_size = 4\n",
    "num_workers = 0\n",
    "dataloader = DataLoader(dataset=theDataset,\n",
    "                        shuffle=shuffle,\n",
    "                        batch_size=batch_size,\n",
    "                        num_workers=num_workers)\n",
    "\n",
    "#test_ds, valid_ds = torch.utils.data.random_split(dataloader.dataset, (30000, len(theDataset)-30000))\n",
    "test_ds, valid_ds = torch.utils.data.random_split(dataloader.dataset, (30000, len(theDataset)-30000))\n",
    "testLoader = DataLoader(dataset=test_ds,\n",
    "                        shuffle=shuffle,\n",
    "                        batch_size=batch_size,\n",
    "                        num_workers=num_workers)\n",
    "validLoader = DataLoader(dataset=valid_ds,\n",
    "                        shuffle=shuffle,\n",
    "                        batch_size=batch_size,\n",
    "                        num_workers=num_workers)"
   ]
  },
  {
   "cell_type": "code",
   "execution_count": 8,
   "metadata": {},
   "outputs": [
    {
     "name": "stdout",
     "output_type": "stream",
     "text": [
      "44419\n",
      "11105\n",
      "30000\n",
      "14419\n",
      "7500\n",
      "3605\n",
      "('Topwear', 'Bottomwear', 'Watches', 'Socks', 'Shoes', 'Belts', 'Flip Flops', 'Bags', 'Innerwear', 'Sandal', 'Shoe Accessories', 'Fragrance', 'Jewellery', 'Lips', 'Saree', 'Eyewear', 'Nails', 'Scarves', 'Dress', 'Loungewear and Nightwear', 'Wallets', 'Apparel Set', 'Headwear', 'Mufflers', 'Skin Care', 'Makeup', 'Free Gifts', 'Ties', 'Accessories', 'Skin', 'Beauty Accessories', 'Water Bottle', 'Eyes', 'Bath and Body', 'Gloves', 'Sports Accessories', 'Cufflinks', 'Sports Equipment', 'Stoles', 'Hair', 'Perfumes', 'Home Furnishing', 'Umbrellas', 'Wristbands', 'Vouchers')\n",
      "45\n"
     ]
    },
    {
     "data": {
      "text/plain": [
       "'C:/Users/Asus/Documents/4Informatica/TFT/Dataset/fashion-dataset//images/59263.jpg'"
      ]
     },
     "execution_count": 8,
     "metadata": {},
     "output_type": "execute_result"
    }
   ],
   "source": [
    "#Pruebas del dataset\n",
    "print(len(theDataset))\n",
    "print(len(dataloader))\n",
    "print(len(test_ds))\n",
    "print(len(valid_ds))\n",
    "print(len(testLoader))\n",
    "print(len(validLoader))\n",
    "print(theDataset.classes)\n",
    "print(len(theDataset.classes))\n",
    "theDataset[2][2]"
   ]
  },
  {
   "cell_type": "markdown",
   "metadata": {},
   "source": [
    "---\n",
    "## Paso 3: La estructura de la red- La Clase Net\n",
    "---"
   ]
  },
  {
   "cell_type": "code",
   "execution_count": 9,
   "metadata": {},
   "outputs": [],
   "source": [
    "\n",
    "class Net (nn.Module):\n",
    "    def __init__(self):\n",
    "        super(Net,self).__init__()\n",
    "        #self.conv1 = nn.Conv2d(3,6,5)\n",
    "        #self.conv2 = nn.Conv2d(6,16,5)\n",
    "        self.conv1 = nn.Conv2d(3,6,3)\n",
    "        #30x30x6\n",
    "        self.pool1 = nn.MaxPool2d(2,2)\n",
    "        #15x15x6\n",
    "        self.conv2 = nn.Conv2d(6,16,2)\n",
    "        #14x14x16\n",
    "        self.conv3 = nn.Conv2d(16,32,5)\n",
    "        #10x10x16\n",
    "        self.fc1 = nn.Linear(32*5*5,120)\n",
    "        self.fc2 = nn.Linear(120,84)\n",
    "        self.fc3 = nn.Linear(84,len(theDataset.classes))\n",
    "\n",
    "    def forward(self,x):\n",
    "        x = self.pool1(F.relu(self.conv1(x)))\n",
    "        x = F.relu(self.conv2(x))\n",
    "        x = self.pool1(F.relu(self.conv3(x)))\n",
    "        x = x.view(-1,32*5*5)\n",
    "        x = F.relu(self.fc1(x))\n",
    "        x = F.relu(self.fc2(x))\n",
    "        x = self.fc3(x)\n",
    "        return x"
   ]
  },
  {
   "cell_type": "markdown",
   "metadata": {},
   "source": [
    "### Creación de la red neuronal\n",
    "\n",
    "Creamos la red neuronal e introducimos los criterios que tendrán en cuenta para los errores."
   ]
  },
  {
   "cell_type": "code",
   "execution_count": 10,
   "metadata": {},
   "outputs": [],
   "source": [
    "net = Net()\n"
   ]
  },
  {
   "cell_type": "code",
   "execution_count": 8,
   "metadata": {},
   "outputs": [
    {
     "name": "stdout",
     "output_type": "stream",
     "text": [
      "cuda:0\n"
     ]
    }
   ],
   "source": [
    "net.load_state_dict(torch.load(\"./datos\"))"
   ]
  },
  {
   "cell_type": "code",
   "execution_count": 11,
   "metadata": {},
   "outputs": [
    {
     "name": "stdout",
     "output_type": "stream",
     "text": [
      "cuda:0\n"
     ]
    }
   ],
   "source": [
    "device = torch.device(\"cuda:0\" if torch.cuda.is_available() else \"cpu\")\n",
    "print(device)\n",
    "#device = torch.device(\"cpu\")\n",
    "net.to(device)\n",
    "\n",
    "\n",
    "\n",
    "\n",
    "criterion = nn.CrossEntropyLoss()\n",
    "optimizer = optim.SGD(net.parameters(), lr=0.001, momentum=0.9)"
   ]
  },
  {
   "cell_type": "markdown",
   "metadata": {},
   "source": [
    "## Paso 4: Entrenamiento (FASE DE PRUEBAS)\n",
    "---"
   ]
  },
  {
   "cell_type": "code",
   "execution_count": 17,
   "metadata": {},
   "outputs": [
    {
     "name": "stdout",
     "output_type": "stream",
     "text": [
      "cuda:0\n",
      "[1,  300] loss : 0.125\n",
      "[1,  600] loss : 0.140\n",
      "[1,  900] loss : 0.147\n",
      "[1, 1200] loss : 0.119\n",
      "[1, 1500] loss : 0.118\n",
      "[1, 1800] loss : 0.122\n",
      "[1, 2100] loss : 0.153\n",
      "[1, 2400] loss : 0.159\n",
      "[1, 2700] loss : 0.164\n",
      "[1, 3000] loss : 0.130\n",
      "[1, 3300] loss : 0.140\n",
      "[1, 3600] loss : 0.150\n",
      "[1, 3900] loss : 0.137\n",
      "[1, 4200] loss : 0.098\n",
      "[1, 4500] loss : 0.208\n",
      "[1, 4800] loss : 0.189\n",
      "[1, 5100] loss : 0.181\n",
      "[1, 5400] loss : 0.169\n",
      "[1, 5700] loss : 0.191\n",
      "[1, 6000] loss : 0.224\n",
      "[1, 6300] loss : 0.201\n",
      "[1, 6600] loss : 0.162\n",
      "[1, 6900] loss : 0.227\n",
      "[1, 7200] loss : 0.136\n",
      "[1, 7500] loss : 0.154\n",
      "Entrenamiento finalizado\n"
     ]
    }
   ],
   "source": [
    "device = torch.device(\"cuda:0\" if torch.cuda.is_available() else \"cpu\")\n",
    "print(device)\n",
    "#device = torch.device(\"cpu\")\n",
    "net.to(device)\n",
    "oldLabels = []\n",
    "for epoch in range(1):\n",
    "    running_loss = 0.0\n",
    "    for i, data in enumerate(testLoader, 0):\n",
    "        inputs, labels, paths = data[0].to(device), data[1].to(device), data[2]\n",
    "        optimizer.zero_grad()  # Reiniciamos el parámetro gradiente del optimizador\n",
    "        # Forward + backward + optimización\n",
    "        outputs = net(inputs)\n",
    "        loss = criterion(outputs, labels)\n",
    "        loss.backward()\n",
    "        optimizer.step()\n",
    "\n",
    "        # Imprimimos los resultados\n",
    "        running_loss += loss.item()\n",
    "        if i % 300 == 299:  ##Imprime cada 2000 batches\n",
    "            print('[%d,%5d] loss : %.3f' %\n",
    "                  (epoch + 1, i + 1, running_loss / 300))\n",
    "            running_loss = 0.0\n",
    "print('Entrenamiento finalizado')"
   ]
  },
  {
   "cell_type": "markdown",
   "metadata": {},
   "source": [
    "---\n",
    "## Paso 5: Resultados (FASE DE PRUEBAS)\n",
    "---"
   ]
  },
  {
   "cell_type": "code",
   "execution_count": 20,
   "metadata": {},
   "outputs": [
    {
     "name": "stdout",
     "output_type": "stream",
     "text": [
      "3605\n",
      "Precision de la red en el dataset imagenes de tests: 88 %\n"
     ]
    }
   ],
   "source": [
    "torch.cuda.empty_cache()\n",
    "device = torch.device(\"cuda:0\" if torch.cuda.is_available() else \"cpu\")\n",
    "net.to(device)\n",
    "correct = 0\n",
    "total = 0\n",
    "with torch.no_grad():\n",
    "    cont = 0\n",
    "    for data in validLoader:\n",
    "        images, labels, paths = data\n",
    "        images, labels = images.to(device), labels.to(device)\n",
    "        outputs = net(images)\n",
    "        _, predicted = torch.max(outputs.data, 1)\n",
    "        total += labels.size(0)\n",
    "        correct += (predicted == labels).sum().item()\n",
    "        cont += 1\n",
    "    print(cont)\n",
    "print('Precision de la red en el dataset imagenes de tests: %d %%' % (100 * correct / total))\n",
    "    "
   ]
  },
  {
   "cell_type": "code",
   "execution_count": 19,
   "metadata": {},
   "outputs": [
    {
     "name": "stdout",
     "output_type": "stream",
     "text": [
      "Accuracy of Topwear : 96 % Total =  4924.0\n",
      "Accuracy of Bottomwear : 89 % Total =  885.0\n",
      "Accuracy of Watches : 92 % Total =  823.0\n",
      "Accuracy of Socks : 81 % Total =  229.0\n",
      "Accuracy of Shoes : 91 % Total =  2436.0\n",
      "Accuracy of Belts : 94 % Total =  256.0\n",
      "Accuracy of Flip Flops : 83 % Total =  331.0\n",
      "Accuracy of  Bags : 93 % Total =  994.0\n",
      "Accuracy of Innerwear : 81 % Total =  556.0\n",
      "Accuracy of Sandal : 63 % Total =  307.0\n",
      "Accuracy of Shoe Accessories : 20 % Total =  5.0\n",
      "Accuracy of Fragrance : 79 % Total =  337.0\n",
      "Accuracy of Jewellery : 87 % Total =  346.0\n",
      "Accuracy of  Lips : 85 % Total =  175.0\n",
      "Accuracy of Saree : 87 % Total =  132.0\n",
      "Accuracy of Eyewear : 96 % Total =  360.0\n",
      "Accuracy of Nails : 89 % Total =  96.0\n",
      "Accuracy of Scarves : 51 % Total =  49.0\n",
      "Accuracy of Dress : 40 % Total =  154.0\n",
      "Accuracy of Loungewear and Nightwear : 42 % Total =  150.0\n",
      "Accuracy of Wallets : 75 % Total =  311.0\n",
      "Accuracy of Apparel Set : 61 % Total =  31.0\n",
      "Accuracy of Headwear : 77 % Total =  96.0\n",
      "Accuracy of Mufflers :  0 % Total =  15.0\n",
      "Accuracy of Skin Care : 35 % Total =  28.0\n",
      "Accuracy of Makeup : 38 % Total =  97.0\n",
      "Accuracy of Free Gifts :  2 % Total =  37.0\n",
      "Accuracy of  Ties : 97 % Total =  83.0\n",
      "Accuracy of Accessories : 66 % Total =  45.0\n",
      "Accuracy of  Skin :  4 % Total =  22.0\n",
      "Accuracy of Beauty Accessories :  0 % Total =  2.0\n",
      "Accuracy of Water Bottle :  0 % Total =  1.0\n",
      "Accuracy of  Eyes : 20 % Total =  10.0\n",
      "Accuracy of Bath and Body :  0 % Total =  4.0\n",
      "Accuracy of Gloves : 75 % Total =  4.0\n",
      "Accuracy of Sports Accessories :  0 % Total =  0.0\n",
      "Accuracy of Cufflinks : 90 % Total =  33.0\n",
      "Accuracy of Sports Equipment : 44 % Total =  9.0\n",
      "Accuracy of Stoles :  6 % Total =  32.0\n",
      "Accuracy of  Hair : 75 % Total =  4.0\n",
      "Accuracy of Perfumes :  0 % Total =  1.0\n",
      "Accuracy of Home Furnishing :  0 % Total =  1.0\n",
      "Accuracy of Umbrellas :  0 % Total =  3.0\n",
      "Accuracy of Wristbands :  0 % Total =  2.0\n",
      "Accuracy of Vouchers :  0 % Total =  0.0\n"
     ]
    }
   ],
   "source": [
    "device = torch.device(\"cuda:0\" if torch.cuda.is_available() else \"cpu\")\n",
    "net.to(device)\n",
    "lengu = len(theDataset.classes)\n",
    "class_correct = list(0. for i in range(lengu))\n",
    "class_total = list(0. for i in range (lengu))\n",
    "with torch.no_grad():\n",
    "    for data in validLoader:\n",
    "        images, labels,paths = data\n",
    "        images, labels = images.to(device), labels.to(device)\n",
    "        outputs = net(images)\n",
    "        _, predicted = torch.max(outputs,1);\n",
    "        c = (predicted == labels).squeeze()\n",
    "        for i in range(batch_size):\n",
    "            if(len(labels) < 4): continue\n",
    "            label = labels[i]\n",
    "            class_correct[label] += c[i].item()\n",
    "            class_total[label] +=1\n",
    "\n",
    "for i in range(lengu):\n",
    "  print('Accuracy of %5s : %2d %%' % (\n",
    "  theDataset.classes[i],100 * class_correct[i]/(max(class_total[i],1))), \"Total = \", class_total[i])"
   ]
  },
  {
   "cell_type": "code",
   "execution_count": null,
   "metadata": {},
   "outputs": [],
   "source": [
    "torch.save(net.state_dict(), \"./datos\")"
   ]
  },
  {
   "cell_type": "markdown",
   "metadata": {},
   "source": [
    "## Pruebas del autor"
   ]
  },
  {
   "cell_type": "code",
   "execution_count": 25,
   "metadata": {},
   "outputs": [],
   "source": [
    "\n",
    "def imshow(img):\n",
    "    img = img /2 + 0.5\n",
    "    npimg = img.numpy()\n",
    "    plt.imshow(np.transpose(npimg,(1,2,0)))\n",
    "    plt.show()\n"
   ]
  },
  {
   "cell_type": "code",
   "execution_count": 4,
   "metadata": {},
   "outputs": [
    {
     "ename": "NameError",
     "evalue": "name 'netPr' is not defined",
     "output_type": "error",
     "traceback": [
      "\u001b[0;31m---------------------------------------------------------------------------\u001b[0m",
      "\u001b[0;31mNameError\u001b[0m                                 Traceback (most recent call last)",
      "\u001b[0;32m<ipython-input-4-71cc8f66e1af>\u001b[0m in \u001b[0;36m<module>\u001b[0;34m\u001b[0m\n\u001b[1;32m      1\u001b[0m \u001b[0mdevice\u001b[0m \u001b[0;34m=\u001b[0m \u001b[0mtorch\u001b[0m\u001b[0;34m.\u001b[0m\u001b[0mdevice\u001b[0m\u001b[0;34m(\u001b[0m\u001b[0;34m\"cpu\"\u001b[0m\u001b[0;34m)\u001b[0m\u001b[0;34m\u001b[0m\u001b[0;34m\u001b[0m\u001b[0m\n\u001b[0;32m----> 2\u001b[0;31m \u001b[0mnetPr\u001b[0m\u001b[0;34m.\u001b[0m\u001b[0mto\u001b[0m\u001b[0;34m(\u001b[0m\u001b[0mdevice\u001b[0m\u001b[0;34m)\u001b[0m\u001b[0;34m\u001b[0m\u001b[0;34m\u001b[0m\u001b[0m\n\u001b[0m\u001b[1;32m      3\u001b[0m \u001b[0mdataiter\u001b[0m \u001b[0;34m=\u001b[0m \u001b[0miter\u001b[0m\u001b[0;34m(\u001b[0m\u001b[0mvalidLoader\u001b[0m\u001b[0;34m)\u001b[0m\u001b[0;34m\u001b[0m\u001b[0;34m\u001b[0m\u001b[0m\n\u001b[1;32m      4\u001b[0m \u001b[0mimages\u001b[0m\u001b[0;34m,\u001b[0m\u001b[0mlabels\u001b[0m \u001b[0;34m=\u001b[0m \u001b[0mdataiter\u001b[0m\u001b[0;34m.\u001b[0m\u001b[0mnext\u001b[0m\u001b[0;34m(\u001b[0m\u001b[0;34m)\u001b[0m\u001b[0;34m\u001b[0m\u001b[0;34m\u001b[0m\u001b[0m\n\u001b[1;32m      5\u001b[0m \u001b[0mimages\u001b[0m\u001b[0;34m,\u001b[0m \u001b[0mlabels\u001b[0m \u001b[0;34m=\u001b[0m \u001b[0mimages\u001b[0m\u001b[0;34m.\u001b[0m\u001b[0mto\u001b[0m\u001b[0;34m(\u001b[0m\u001b[0mdevice\u001b[0m\u001b[0;34m)\u001b[0m\u001b[0;34m,\u001b[0m \u001b[0mlabels\u001b[0m\u001b[0;34m.\u001b[0m\u001b[0mto\u001b[0m\u001b[0;34m(\u001b[0m\u001b[0mdevice\u001b[0m\u001b[0;34m)\u001b[0m\u001b[0;34m\u001b[0m\u001b[0;34m\u001b[0m\u001b[0m\n",
      "\u001b[0;31mNameError\u001b[0m: name 'netPr' is not defined"
     ]
    }
   ],
   "source": [
    "device = torch.device(\"cpu\")\n",
    "netPr.to(device)\n",
    "dataiter = iter(validLoader)\n",
    "images,labels = dataiter.next()\n",
    "images, labels = images.to(device), labels.to(device)\n",
    "imshow(torchvision.utils.make_grid(images))\n",
    "outputs = netPr(images)\n",
    "print('GroundTruth: ', ' '.join('%5s' % theDatasetPr.classes[labels[j]] for j in range(4)))\n",
    "_, predicted = torch.max(outputs,1)\n",
    "\n",
    "print('Predicted',' '.join('%5s' % theDatasetPr.classes[predicted[j]] for j in range(4)))"
   ]
  },
  {
   "cell_type": "code",
   "execution_count": null,
   "metadata": {},
   "outputs": [],
   "source": []
  },
  {
   "cell_type": "markdown",
   "metadata": {},
   "source": [
    "# Nivel 2: Clasificación por subCategoría.\n"
   ]
  },
  {
   "cell_type": "markdown",
   "metadata": {},
   "source": [
    "En esta versión ya se han implementado formas más robustas de realizar cada paso, así como procediendo a una mejor explicación. **Para ejecutar esta versión debe haber previamente importado lo usado en los primeros bloques de código de este documento.**"
   ]
  },
  {
   "cell_type": "markdown",
   "metadata": {},
   "source": [
    "### Primer Paso: Preparar los parámetros necesarios para importar el dataset\n",
    "Se introducen los parámetros necesarios para poder tratar las imágenes cuando estas sean usadas. La variable transform guarda los cambios que se realizarán sobre cada imagen:  \n",
    "- Redimensionamiento y recorte para adaptarlo a la dimensión de entrada del modelo VGG (224x224).  \n",
    "- Aleatoriamente dará la vuelta horizontalmente a las imágenes.  \n",
    "- Aleatoriamente girará ligeramente las imágenes.\n",
    "- Normalización de los datos generados de leer las imágenes."
   ]
  },
  {
   "cell_type": "code",
   "execution_count": 4,
   "metadata": {},
   "outputs": [
    {
     "name": "stdout",
     "output_type": "stream",
     "text": [
      "cuda:0\n"
     ]
    }
   ],
   "source": [
    "DATA_PATH = \"/storage/datasets/fashion-dataset/\"\n",
    "img_width, img_height, _ = 32, 32, 3\n",
    "image_size = (img_width, img_height)\n",
    "mean = [0.485, 0.456, 0.406]\n",
    "std = [0.229, 0.224, 0.225]\n",
    "transform = transforms.Compose([\n",
    "    transforms.Resize(256),\n",
    "    transforms.CenterCrop(224),\n",
    "    transforms.RandomHorizontalFlip(),\n",
    "    transforms.RandomRotation(20, resample=False, expand=False, center=None),\n",
    "    transforms.ToTensor(),\n",
    "    transforms.Normalize(mean, std)\n",
    "])\n",
    "device = torch.device(\"cuda:0\" if torch.cuda.is_available() else \"cpu\")\n",
    "print(device)"
   ]
  },
  {
   "cell_type": "markdown",
   "metadata": {},
   "source": [
    "## Dataset\n",
    "El dataset se guarda en un objeto del tipo dataset y cuenta con el siguiente grupo de variables:\n",
    "- *path*: El path del dataset original.\n",
    "- *file_list*: la lista de imágenes que se pueden leer.\n",
    "- *division*: la categoría por la que se dividen.\n",
    "- *transform*: el transformador que actua sobre sus imágenes.\n",
    "- *chargedInVgg*: boolean para indicar si salen de el las imágenes o los resultados de pasar las imágenes por la parte convolutiva.\n",
    "- *PreResults*: resultados de pasar las imágenes por la parte convolutiva.\n",
    "El dataset se inicia pasandole un objeto transform y el campo por el que se clasificarán. Al cargarlo, se comprobará la fiabilidad de las imágenes.  \n",
    "Para obtener los resultados de pasarla por la parte convolutiva de la VGG (o por una parte de la red) hay que ejecutar la función preNet de la clase, que pasándole la parte convolutiva de la red se encargará de ello. Podemos con la función changeSource(bool) especificar que valores queremos obtener del dataset, si las imágenes (bool = False) o los resultados de pasar por la parte de la red con anterioridad (bool = True)."
   ]
  },
  {
   "cell_type": "code",
   "execution_count": 100,
   "metadata": {},
   "outputs": [
    {
     "name": "stderr",
     "output_type": "stream",
     "text": [
      "b'Skipping line 6044: expected 10 fields, saw 11\\nSkipping line 6569: expected 10 fields, saw 11\\nSkipping line 7399: expected 10 fields, saw 11\\nSkipping line 7939: expected 10 fields, saw 11\\nSkipping line 9026: expected 10 fields, saw 11\\nSkipping line 10264: expected 10 fields, saw 11\\nSkipping line 10427: expected 10 fields, saw 11\\nSkipping line 10905: expected 10 fields, saw 11\\nSkipping line 11373: expected 10 fields, saw 11\\nSkipping line 11945: expected 10 fields, saw 11\\nSkipping line 14112: expected 10 fields, saw 11\\nSkipping line 14532: expected 10 fields, saw 11\\nSkipping line 15076: expected 10 fields, saw 12\\nSkipping line 29906: expected 10 fields, saw 11\\nSkipping line 31625: expected 10 fields, saw 11\\nSkipping line 33020: expected 10 fields, saw 11\\nSkipping line 35748: expected 10 fields, saw 11\\nSkipping line 35962: expected 10 fields, saw 11\\nSkipping line 37770: expected 10 fields, saw 11\\nSkipping line 38105: expected 10 fields, saw 11\\nSkipping line 38275: expected 10 fields, saw 11\\nSkipping line 38404: expected 10 fields, saw 12\\n'\n"
     ]
    },
    {
     "data": {
      "image/png": "[encoded data removed]",
      "text/plain": [
       "<Figure size 360x360 with 1 Axes>"
      ]
     },
     "metadata": {
      "needs_background": "light"
     },
     "output_type": "display_data"
    },
    {
     "data": {
      "image/png": "[encoded data removed]",
      "text/plain": [
       "<Figure size 720x360 with 1 Axes>"
      ]
     },
     "metadata": {
      "needs_background": "light"
     },
     "output_type": "display_data"
    },
    {
     "data": {
      "image/png": "[encoded data removed]",
      "text/plain": [
       "<Figure size 1800x360 with 1 Axes>"
      ]
     },
     "metadata": {
      "needs_background": "light"
     },
     "output_type": "display_data"
    },
    {
     "data": {
      "image/png": "[encoded data removed]",
      "text/plain": [
       "<Figure size 360x360 with 1 Axes>"
      ]
     },
     "metadata": {
      "needs_background": "light"
     },
     "output_type": "display_data"
    },
    {
     "data": {
      "image/png": "[encoded data removed]",
      "text/plain": [
       "<Figure size 720x360 with 1 Axes>"
      ]
     },
     "metadata": {
      "needs_background": "light"
     },
     "output_type": "display_data"
    }
   ],
   "source": [
    "df = pd.read_csv(DATA_PATH + \"styles.csv\", error_bad_lines=False)\n",
    "df.groupby('masterCategory')['productDisplayName'].nunique().plot(kind='bar',figsize=(5,5))\n",
    "plt.show()\n",
    "df.groupby('subCategory')['productDisplayName'].nunique().plot(kind='bar',figsize=(10,5))\n",
    "plt.show()\n",
    "df.groupby('articleType')['productDisplayName'].nunique().plot(kind='bar',figsize=(25,5))\n",
    "plt.show()\n",
    "df.groupby('season')['productDisplayName'].nunique().plot(kind='bar',figsize=(5,5))\n",
    "plt.show()\n",
    "df.groupby('baseColour')['productDisplayName'].nunique().plot(kind='bar',figsize=(10,5))\n",
    "plt.show()"
   ]
  },
  {
   "cell_type": "code",
   "execution_count": 5,
   "metadata": {},
   "outputs": [],
   "source": [
    "class TheDataset(Dataset):\n",
    "    def __init__(self,transform=None,division=None):\n",
    "        self.path= DATA_PATH\n",
    "        self.file_list = pd.read_csv(self.path + \"styles.csv\", error_bad_lines=False)\n",
    "        self.file_list['image'] =self.file_list.apply(lambda row: self.path + \"/images/\"+ str(row['id']) + \".jpg\", axis=1)\n",
    "        self.file_list = self.file_list.reset_index(drop=True)\n",
    "        self.division = division\n",
    "        self.classes= tuple(self.file_list[division].unique())\n",
    "        self.transform = transform\n",
    "        self.tryDataset()\n",
    "        self.chargedInVGG = 0\n",
    "        self.PreResults = []\n",
    "\n",
    "    def __len__(self):\n",
    "        return len(self.file_list)\n",
    "    \n",
    "        \n",
    "    def __getitem__(self,idx):\n",
    "        if self.chargedInVGG==0:\n",
    "            row = self.file_list[idx]\n",
    "            imageClass = self.classes.index(row[self.division])\n",
    "            image = Image.open(row['image'])\n",
    "            if self.transform:\n",
    "                    image= self.transform(image)\n",
    "            return image, imageClass \n",
    "            #return self.file_list[idx]\n",
    "        #else:\n",
    "        #    return self.PreResults[idx][0], self.PreResults[idx][1]\n",
    "        else:\n",
    "            row = self.file_list[idx]\n",
    "            imageClass = self.classes.index(row[self.division])\n",
    "            if self.chargedInVGG == 1:\n",
    "                return  torch.load(row['midConvolutive']), imageClass\n",
    "            elif self.chargedInVGG == 2:\n",
    "                return torch.load(row['completeConvolutive']), imageClass\n",
    "    \n",
    "    def tryDataset(self):\n",
    "        cont = 0\n",
    "        files=[]\n",
    "        for index, row in self.file_list.iterrows():\n",
    "            if not os.path.isfile(row['image']) : continue\n",
    "            #if index == 100: break;\n",
    "            '''img = Image.open(row['image'])\n",
    "            imgAndClass = []\n",
    "            imgAndClass.append(img)\n",
    "            if self.transform:\n",
    "                imgAndClass[0]= self.transform(img)\n",
    "            \n",
    "            imgAndClass.append(self.classes.index(row[self.division]))\n",
    "            imgAndClass.append(row['image'])\n",
    "            '''\n",
    "            files.append(row)\n",
    "            cont += 1\n",
    "    \n",
    "\n",
    "        self.file_list = files\n",
    "    def changeSource(self,mode):\n",
    "        #mode 0: get image; mode 1: get midConvolutive result; mode 2: get completeConvolutive result\n",
    "        self.chargedInVGG = mode\n",
    "    \n",
    "    def preparationForPreConvolutive(self,mode):\n",
    "        if mode == 1:\n",
    "            for index in range(len(self.file_list)):\n",
    "                self.file_list[index]['midConvolutive'] = \"/storage/midConvolutiveResults/file\" + str(index);\n",
    "        elif mode == 2:\n",
    "            for index in range(len(self.file_list)):\n",
    "                self.file_list[index]['completeConvolutive'] = \"/storage/convolutiveResults/file\" + str(index);\n",
    "    #def PreNet(self, notClassNet):\n",
    "    #    files = []\n",
    "    #    count = 0\n",
    "    #    \n",
    "    #    device = torch.device(\"cuda:0\" if torch.cuda.is_available() else \"cpu\")\n",
    "    #    print(device)\n",
    "    #    notClassNet.to(device)\n",
    "    #    notClassNet.cuda()\n",
    "    #    with torch.no_grad():\n",
    "    #        for index in range(len(self.file_list)):\n",
    "    #            if index % 5000 == 0: \n",
    "    #                print(index)\n",
    "    #            imgAndClass = []\n",
    "    #            theImg,theClass = self.__getitem__(index)\n",
    "    #            theImg = torch.tensor([theImg.tolist()])\n",
    "    #            theImg = theImg.to(device) \n",
    "    #            output = notClassNet(theImg)\n",
    "    #            output = torch.flatten(output, 1)\n",
    "    #            #output = alsoNotClassNet(output)\n",
    "    #            output = torch.tensor(output.tolist()[0])\n",
    "    #            imgAndClass.append(output)\n",
    "    #            imgAndClass.append(theClass)\n",
    "    #            files.append(imgAndClass)\n",
    "    #            torch.cuda.empty_cache()\n",
    "    #        self.PreResults = files\n",
    "    #\n",
    "    #def preNet(self, notClassNet):\n",
    "    #    self.PreResults = []\n",
    "    #    count = 0\n",
    "    #    \n",
    "    #    device = torch.device(\"cuda:0\" if torch.cuda.is_available() else \"cpu\")\n",
    "    #    print(device)\n",
    "    #    notClassNet.to(device)\n",
    "    #    notClassNet.cuda()\n",
    "    #    with torch.no_grad():\n",
    "    #        for index in range(len(self.file_list)):\n",
    "    #            if index % 1000 == 0: \n",
    "    #                print(index)\n",
    "    #            \n",
    "    #            imgAndClass = []\n",
    "    #            theImg,theClass = self.__getitem__(index)\n",
    "    #            theImg = torch.tensor([theImg.tolist()])\n",
    "    #            theImg = theImg.to(device) \n",
    "    #            output = notClassNet(theImg)\n",
    "    #            #output = torch.flatten(output, 1)\n",
    "    #            #output = alsoNotClassNet(output)\n",
    "    #            output = torch.tensor(output.tolist()[0])\n",
    "    #            imgAndClass.append(output)\n",
    "    #            imgAndClass.append(theClass)\n",
    "    #            self.PreResults.append(imgAndClass)\n",
    "    #            torch.cuda.empty_cache()\n",
    "    def completePreNet(self, notClassNet):\n",
    "        #DATA_PATH = \"/storage/datasets/fashion-dataset/\"\n",
    "        files = []\n",
    "        count = 0\n",
    "        \n",
    "        device = torch.device(\"cuda:0\" if torch.cuda.is_available() else \"cpu\")\n",
    "        print(device)\n",
    "        notClassNet.to(device)\n",
    "        notClassNet.cuda()\n",
    "        with torch.no_grad():\n",
    "            for index in range(len(self.file_list)):\n",
    "                if index % 5000 == 0: \n",
    "                    print(index)\n",
    "                imgAndClass = []\n",
    "                theImg,theClass = self.__getitem__(index)\n",
    "                theImg = torch.tensor([theImg.tolist()])\n",
    "                theImg = theImg.to(device) \n",
    "                output = notClassNet(theImg)\n",
    "                output = torch.flatten(output, 1)\n",
    "                output = torch.tensor(output.tolist()[0])\n",
    "                torch.save(output,\"/storage/convolutiveResults/file\" + str(index) );\n",
    "                #imgAndClass.append(output)\n",
    "                #imgAndClass.append(theClass)\n",
    "                #files.append(imgAndClass)\n",
    "                self.file_list[index]['completeConvolutive'] = \"/storage/convolutiveResults/file\" + str(index);\n",
    "                torch.cuda.empty_cache()\n",
    "            #self.PreResults = files\n",
    "        torch.cuda.empty_cache()\n",
    "            \n",
    "    def midPreNet(self, notClassNet):\n",
    "        count = 0\n",
    "        \n",
    "        device = torch.device(\"cuda:0\" if torch.cuda.is_available() else \"cpu\")\n",
    "        print(device)\n",
    "        notClassNet.to(device)\n",
    "        notClassNet.cuda()\n",
    "        with torch.no_grad():\n",
    "            for index in range(len(self.file_list)):\n",
    "                if index % 1000 == 0: \n",
    "                    print(index)\n",
    "                \n",
    "                imgAndClass = []\n",
    "                theImg,theClass = self.__getitem__(index)\n",
    "                theImg = torch.tensor([theImg.tolist()])\n",
    "                theImg = theImg.to(device) \n",
    "                output = notClassNet(theImg)\n",
    "                #output = torch.flatten(output, 1)\n",
    "                #output = alsoNotClassNet(output)\n",
    "                output = torch.tensor(output.tolist()[0])\n",
    "                torch.save(output,\"/storage/midConvolutiveResults/file\" + str(index) );\n",
    "                #imgAndClass.append(output)\n",
    "                #imgAndClass.append(theClass)\n",
    "                #self.PreResults.append(imgAndClass)\n",
    "                self.file_list[index]['midConvolutive'] = \"/storage/midConvolutiveResults/file\" + str(index);\n",
    "                torch.cuda.empty_cache()\n",
    "        torch.cuda.empty_cache()\n",
    "        "
   ]
  },
  {
   "cell_type": "code",
   "execution_count": 6,
   "metadata": {},
   "outputs": [
    {
     "name": "stderr",
     "output_type": "stream",
     "text": [
      "b'Skipping line 6044: expected 10 fields, saw 11\\nSkipping line 6569: expected 10 fields, saw 11\\nSkipping line 7399: expected 10 fields, saw 11\\nSkipping line 7939: expected 10 fields, saw 11\\nSkipping line 9026: expected 10 fields, saw 11\\nSkipping line 10264: expected 10 fields, saw 11\\nSkipping line 10427: expected 10 fields, saw 11\\nSkipping line 10905: expected 10 fields, saw 11\\nSkipping line 11373: expected 10 fields, saw 11\\nSkipping line 11945: expected 10 fields, saw 11\\nSkipping line 14112: expected 10 fields, saw 11\\nSkipping line 14532: expected 10 fields, saw 11\\nSkipping line 15076: expected 10 fields, saw 12\\nSkipping line 29906: expected 10 fields, saw 11\\nSkipping line 31625: expected 10 fields, saw 11\\nSkipping line 33020: expected 10 fields, saw 11\\nSkipping line 35748: expected 10 fields, saw 11\\nSkipping line 35962: expected 10 fields, saw 11\\nSkipping line 37770: expected 10 fields, saw 11\\nSkipping line 38105: expected 10 fields, saw 11\\nSkipping line 38275: expected 10 fields, saw 11\\nSkipping line 38404: expected 10 fields, saw 12\\n'\n"
     ]
    }
   ],
   "source": [
    "theDatasetPr = TheDataset(transform=transform,division=\"articleType\")#\"masterCategory\")"
   ]
  },
  {
   "cell_type": "code",
   "execution_count": 11,
   "metadata": {},
   "outputs": [
    {
     "name": "stdout",
     "output_type": "stream",
     "text": [
      "('Shirts', 'Jeans', 'Watches', 'Track Pants', 'Tshirts', 'Socks', 'Casual Shoes', 'Belts', 'Flip Flops', 'Handbags', 'Tops', 'Bra', 'Sandals', 'Shoe Accessories', 'Sweatshirts', 'Deodorant', 'Formal Shoes', 'Bracelet', 'Lipstick', 'Flats', 'Kurtas', 'Waistcoat', 'Sports Shoes', 'Shorts', 'Briefs', 'Sarees', 'Perfume and Body Mist', 'Heels', 'Sunglasses', 'Innerwear Vests', 'Pendant', 'Nail Polish', 'Laptop Bag', 'Scarves', 'Rain Jacket', 'Dresses', 'Night suits', 'Skirts', 'Wallets', 'Blazers', 'Ring', 'Kurta Sets', 'Clutches', 'Shrug', 'Backpacks', 'Caps', 'Trousers', 'Earrings', 'Camisoles', 'Boxers', 'Jewellery Set', 'Dupatta', 'Capris', 'Lip Gloss', 'Bath Robe', 'Mufflers', 'Tunics', 'Jackets', 'Trunk', 'Lounge Pants', 'Face Wash and Cleanser', 'Necklace and Chains', 'Duffel Bag', 'Sports Sandals', 'Foundation and Primer', 'Sweaters', 'Free Gifts', 'Trolley Bag', 'Tracksuits', 'Swimwear', 'Shoe Laces', 'Fragrance Gift Set', 'Bangle', 'Nightdress', 'Ties', 'Baby Dolls', 'Leggings', 'Highlighter and Blush', 'Travel Accessory', 'Kurtis', 'Mobile Pouch', 'Messenger Bag', 'Lip Care', 'Face Moisturisers', 'Compact', 'Eye Cream', 'Accessory Gift Set', 'Beauty Accessory', 'Jumpsuit', 'Kajal and Eyeliner', 'Water Bottle', 'Suspenders', 'Lip Liner', 'Robe', 'Salwar and Dupatta', 'Patiala', 'Stockings', 'Eyeshadow', 'Headband', 'Tights', 'Nail Essentials', 'Churidar', 'Lounge Tshirts', 'Face Scrub and Exfoliator', 'Lounge Shorts', 'Gloves', 'Mask and Peel', 'Wristbands', 'Tablet Sleeve', 'Ties and Cufflinks', 'Footballs', 'Stoles', 'Shapewear', 'Nehru Jackets', 'Salwar', 'Cufflinks', 'Jeggings', 'Hair Colour', 'Concealer', 'Rompers', 'Body Lotion', 'Sunscreen', 'Booties', 'Waist Pouch', 'Hair Accessory', 'Rucksacks', 'Basketballs', 'Lehenga Choli', 'Clothing Set', 'Mascara', 'Toner', 'Cushion Covers', 'Key chain', 'Makeup Remover', 'Lip Plumper', 'Umbrellas', 'Face Serum and Gel', 'Hat', 'Mens Grooming Kit', 'Rain Trousers', 'Body Wash and Scrub', 'Suits', 'Ipad')\n"
     ]
    }
   ],
   "source": [
    "print(theDatasetPr.classes)"
   ]
  },
  {
   "cell_type": "markdown",
   "metadata": {},
   "source": [
    "### Dataloader\n",
    "#### Ejemplo de creación\n",
    "El dataloader será el que proporcionará los distintos elementos del dataset al modelo de la red, además de dividirlos en entrenamiento y validación y configurar los parámetros de tamaño de batch y la aleatoriedad de los elementos del dataset."
   ]
  },
  {
   "cell_type": "code",
   "execution_count": 7,
   "metadata": {},
   "outputs": [
    {
     "name": "stdout",
     "output_type": "stream",
     "text": [
      "44419\n",
      "695\n",
      "30000\n",
      "14419\n",
      "469\n",
      "226\n",
      "('Shirts', 'Jeans', 'Watches', 'Track Pants', 'Tshirts', 'Socks', 'Casual Shoes', 'Belts', 'Flip Flops', 'Handbags', 'Tops', 'Bra', 'Sandals', 'Shoe Accessories', 'Sweatshirts', 'Deodorant', 'Formal Shoes', 'Bracelet', 'Lipstick', 'Flats', 'Kurtas', 'Waistcoat', 'Sports Shoes', 'Shorts', 'Briefs', 'Sarees', 'Perfume and Body Mist', 'Heels', 'Sunglasses', 'Innerwear Vests', 'Pendant', 'Nail Polish', 'Laptop Bag', 'Scarves', 'Rain Jacket', 'Dresses', 'Night suits', 'Skirts', 'Wallets', 'Blazers', 'Ring', 'Kurta Sets', 'Clutches', 'Shrug', 'Backpacks', 'Caps', 'Trousers', 'Earrings', 'Camisoles', 'Boxers', 'Jewellery Set', 'Dupatta', 'Capris', 'Lip Gloss', 'Bath Robe', 'Mufflers', 'Tunics', 'Jackets', 'Trunk', 'Lounge Pants', 'Face Wash and Cleanser', 'Necklace and Chains', 'Duffel Bag', 'Sports Sandals', 'Foundation and Primer', 'Sweaters', 'Free Gifts', 'Trolley Bag', 'Tracksuits', 'Swimwear', 'Shoe Laces', 'Fragrance Gift Set', 'Bangle', 'Nightdress', 'Ties', 'Baby Dolls', 'Leggings', 'Highlighter and Blush', 'Travel Accessory', 'Kurtis', 'Mobile Pouch', 'Messenger Bag', 'Lip Care', 'Face Moisturisers', 'Compact', 'Eye Cream', 'Accessory Gift Set', 'Beauty Accessory', 'Jumpsuit', 'Kajal and Eyeliner', 'Water Bottle', 'Suspenders', 'Lip Liner', 'Robe', 'Salwar and Dupatta', 'Patiala', 'Stockings', 'Eyeshadow', 'Headband', 'Tights', 'Nail Essentials', 'Churidar', 'Lounge Tshirts', 'Face Scrub and Exfoliator', 'Lounge Shorts', 'Gloves', 'Mask and Peel', 'Wristbands', 'Tablet Sleeve', 'Ties and Cufflinks', 'Footballs', 'Stoles', 'Shapewear', 'Nehru Jackets', 'Salwar', 'Cufflinks', 'Jeggings', 'Hair Colour', 'Concealer', 'Rompers', 'Body Lotion', 'Sunscreen', 'Booties', 'Waist Pouch', 'Hair Accessory', 'Rucksacks', 'Basketballs', 'Lehenga Choli', 'Clothing Set', 'Mascara', 'Toner', 'Cushion Covers', 'Key chain', 'Makeup Remover', 'Lip Plumper', 'Umbrellas', 'Face Serum and Gel', 'Hat', 'Mens Grooming Kit', 'Rain Trousers', 'Body Wash and Scrub', 'Suits', 'Ipad')\n",
      "143\n"
     ]
    }
   ],
   "source": [
    "#DATALOADER\n",
    "shuffle = True\n",
    "batch_size = 64\n",
    "num_workers = 0\n",
    "trainSize = 30000\n",
    "#trainSize = 50\n",
    "valSize = len(theDatasetPr)-trainSize\n",
    "dataloader = DataLoader(dataset=theDatasetPr,\n",
    "                        shuffle=shuffle,\n",
    "                        batch_size=batch_size,\n",
    "                        num_workers=num_workers)\n",
    "\n",
    "test_ds, valid_ds = torch.utils.data.random_split(dataloader.dataset, (trainSize, valSize))\n",
    "testLoader = DataLoader(dataset=test_ds,\n",
    "                        shuffle=shuffle,\n",
    "                        batch_size=batch_size,\n",
    "                        num_workers=num_workers)\n",
    "validLoader = DataLoader(dataset=valid_ds,\n",
    "                        shuffle=shuffle,\n",
    "                        batch_size=batch_size,\n",
    "                        num_workers=num_workers)\n",
    "dataloaders = {'train': testLoader, 'val': validLoader}\n",
    "dataset_sizes = {'train': trainSize, 'val': valSize}\n",
    "\n",
    "#Pruebas del dataset\n",
    "print(len(theDatasetPr))\n",
    "print(len(dataloader))\n",
    "print(len(test_ds))\n",
    "print(len(valid_ds))\n",
    "print(len(testLoader))\n",
    "print(len(validLoader))\n",
    "print(theDatasetPr.classes)\n",
    "print(len(theDatasetPr.classes))\n",
    "#theDataset2[2][2]"
   ]
  },
  {
   "cell_type": "markdown",
   "metadata": {},
   "source": [
    "#### Guardado y carga de los dataloaders.\n",
    "Para usar siempre la misma configuración de entrenamiento podemos guardar los dataloaders y volverlos a usar más adelante."
   ]
  },
  {
   "cell_type": "code",
   "execution_count": 13,
   "metadata": {},
   "outputs": [],
   "source": [
    "#Save dataloader\n",
    "torch.save(dataloaders['train'], './testLoader.pth')\n",
    "torch.save(dataloaders['val'], './validLoader.pth')"
   ]
  },
  {
   "cell_type": "code",
   "execution_count": 29,
   "metadata": {},
   "outputs": [],
   "source": [
    "#Load model\n",
    "dataloaders['train'] = torch.load('./testLoader.pth')\n",
    "dataloaders['val'] = torch.load('./validLoader.pth')"
   ]
  },
  {
   "cell_type": "markdown",
   "metadata": {},
   "source": [
    "## Modelo de red\n",
    "#### Ejemplo de creación\n",
    "Para crear el modelo, primero obtenemos un modelo ya entrenado de VGG poniendo el require_grad a false para que el entrenamiento no afecte sobre ellos.\n",
    "Cambiamos la última capa de la neurona para adecuarla a nuestro número de clases, conservando el resto de la parte clasificadora y movemos la red a cuda."
   ]
  },
  {
   "cell_type": "markdown",
   "metadata": {},
   "source": [
    "#### Guardado y carga del entrenamiento\n",
    "Es posible guardar y cargar los valores de la red tras su entrenamiento para usarlos más adelante."
   ]
  },
  {
   "cell_type": "code",
   "execution_count": 7,
   "metadata": {},
   "outputs": [
    {
     "name": "stdout",
     "output_type": "stream",
     "text": [
      "0\n",
      "1\n",
      "2\n",
      "3\n",
      "4\n",
      "5\n",
      "6\n",
      "7\n",
      "8\n",
      "9\n",
      "10\n",
      "11\n",
      "12\n",
      "13\n",
      "14\n",
      "15\n",
      "16\n",
      "17\n",
      "18\n",
      "19\n",
      "20\n",
      "21\n",
      "22\n",
      "23\n",
      "24\n",
      "25\n",
      "26\n",
      "27\n",
      "28\n",
      "29\n",
      "30\n",
      "31\n",
      "32\n",
      "33\n",
      "34\n",
      "35\n",
      "36\n"
     ]
    }
   ],
   "source": [
    "#del netPr\n",
    "#torch.cuda.empty_cache() \n",
    "netPr = models.vgg16_bn(pretrained=True)\n",
    "#netPr = models.vgg19_bn(pretrained=True)\n",
    "#No entrenamos la red vgg\n",
    "cont = 0\n",
    "for param in netPr.features.parameters():\n",
    "    if (cont < 37):\n",
    "        param.require_grad = False\n",
    "        print(cont)\n",
    "    cont += 1\n",
    "#print(netPr)\n"
   ]
  },
  {
   "cell_type": "code",
   "execution_count": 8,
   "metadata": {},
   "outputs": [
    {
     "name": "stdout",
     "output_type": "stream",
     "text": [
      "cuda:0\n"
     ]
    }
   ],
   "source": [
    "\n",
    "\n",
    "# Las nuevas capas que creemos tendrán require_grad = true por defecto = se entrenarán\n",
    "#nFeats= netPr.fc.in_features\n",
    "# Quitamos la última capa para cambiarlo por la salida con las 45 clases de las subCategorías\n",
    "#feats = list(net.classifier.children())[:-1] \n",
    "#feats.extend([nn.Linear(nFeats, len(theDatasetPr.classes))])\n",
    "# Cambiamos el clasificador\n",
    "#netPr.classifier = nn.Sequential(*feats) \n",
    "\n",
    "nFeats = netPr.classifier[6].in_features\n",
    "feats = list(netPr.classifier.children())[:-1]\n",
    "feats.extend([ nn.Linear(nFeats, len(theDatasetPr.classes))])\n",
    "netPr.classifier = nn.Sequential(*feats)\n",
    "#netPr = netPr.to(device)\n",
    "netPr.cuda()\n",
    "\n",
    "device = torch.device(\"cuda:0\" if torch.cuda.is_available() else \"cpu\")\n",
    "print(device)\n",
    "netPr.to(device)\n",
    "\n",
    "criterion = nn.CrossEntropyLoss()\n",
    "# Observe that only parameters of final layer are being optimized as\n",
    "# opposed to before.\n",
    "optimizer= optim.SGD(netPr.parameters(), lr=0.001, momentum=0.9)\n",
    "\n",
    "# Decay LR by a factor of 0.1 every 7 epochs\n",
    "exp_lr_scheduler = lr_scheduler.StepLR(optimizer, step_size=7, gamma=0.1)"
   ]
  },
  {
   "cell_type": "code",
   "execution_count": null,
   "metadata": {},
   "outputs": [],
   "source": [
    "torch.save(netPr.state_dict(), \"./datosPruebaVGG\")"
   ]
  },
  {
   "cell_type": "code",
   "execution_count": 10,
   "metadata": {},
   "outputs": [
    {
     "data": {
      "text/plain": [
       "<All keys matched successfully>"
      ]
     },
     "execution_count": 10,
     "metadata": {},
     "output_type": "execute_result"
    }
   ],
   "source": [
    "#netPr.load_state_dict(torch.load(\"./datosPruebaVGG\"))\n",
    "netPr.load_state_dict(torch.load(\"./mejorActual\"))"
   ]
  },
  {
   "cell_type": "code",
   "execution_count": null,
   "metadata": {},
   "outputs": [
    {
     "data": {
      "image/png": "[encoded data removed]",
      "text/plain": [
       "<Figure size 864x576 with 2 Axes>"
      ]
     },
     "metadata": {
      "needs_background": "light"
     },
     "output_type": "display_data"
    },
    {
     "name": "stdout",
     "output_type": "stream",
     "text": [
      "accuracy\n",
      "\ttraining         \t (min:    0.874, max:    0.930, cur:    0.930)\n",
      "\tvalidation       \t (min:    0.892, max:    0.907, cur:    0.904)\n",
      "log loss\n",
      "\ttraining         \t (min:    0.212, max:    0.408, cur:    0.212)\n",
      "\tvalidation       \t (min:    0.298, max:    0.334, cur:    0.305)\n",
      "Epoch 7/9\n",
      "----------\n"
     ]
    }
   ],
   "source": [
    "classNet,loss = train_model(netPr, criterion, optimizer, exp_lr_scheduler,dataloaders,dataset_sizes,num_epochs=10)"
   ]
  },
  {
   "cell_type": "markdown",
   "metadata": {},
   "source": [
    "### Entrenamiento de la red\n",
    "Pasándole los parámetros necesarios realizamos un entrenamiento en el cual para cada época se entrena y se valida la red, mostrando los resultados de pérdida y precisión para cada caso. Se ha incorporado la librería liveloss para poder mostrar estos resultados como gráficas de los resultados a tiempo real. \n",
    "La función guardará la red que mejores resultados haya obtenido y no cambiará hasta encontrar una que mejore su ejecución en la validación.\n",
    "Al finalizar, devuelve el modelo más óptimo obtenido, así como la media de las perdidas obtenidas, que tiene su uso a la hora de buscar los hiperparámetros óptimos."
   ]
  },
  {
   "cell_type": "code",
   "execution_count": 36,
   "metadata": {},
   "outputs": [],
   "source": [
    "def train_model(model, thecriterion, theoptimizer, thescheduler,dataloaders=None,dataset_sizes=None, num_epochs=25):\n",
    "    since = time.time()\n",
    "    liveloss = PlotLosses()\n",
    "    best_model_wts = copy.deepcopy(model.state_dict())\n",
    "    best_acc = 0.0\n",
    "    best_loss = 1000000.0\n",
    "    the_loss = []\n",
    "    for epoch in range(num_epochs):\n",
    "        print('Epoch {}/{}'.format(epoch, num_epochs - 1))\n",
    "        print('-' * 10)\n",
    "        logs={}\n",
    "        # Each epoch has a training and validation phase\n",
    "        for phase in ['train', 'val']:\n",
    "            if phase == 'train':\n",
    "                model.train()  # Set model to training mode\n",
    "            else:\n",
    "                model.eval()   # Set model to evaluate mode\n",
    "\n",
    "            running_loss = 0.0\n",
    "            running_corrects = 0\n",
    "\n",
    "            # Iterate over data.\n",
    "            batchCont = 0\n",
    "            for inputs, labels in dataloaders[phase]:\n",
    "                inputs = inputs.to(device)\n",
    "                labels = labels.to(device)\n",
    "\n",
    "                # zero the parameter gradients\n",
    "                theoptimizer.zero_grad()\n",
    "\n",
    "                # forward\n",
    "                # track history if only in train\n",
    "                with torch.set_grad_enabled(phase == 'train'):\n",
    "                    outputs = model(inputs)\n",
    "                    _, preds = torch.max(outputs, 1)\n",
    "                    loss = thecriterion(outputs, labels)\n",
    "\n",
    "                    # backward + optimize only if in training phase\n",
    "                    if phase == 'train':\n",
    "                        loss.backward()\n",
    "                        theoptimizer.step()\n",
    "\n",
    "                # statistics\n",
    "                running_loss += loss.item() * inputs.size(0)\n",
    "                running_corrects += torch.sum(preds == labels.data)\n",
    "                batchCont+=1\n",
    "                #if batchCont % int((dataset_sizes[phase]/64)/4) == int((dataset_sizes[phase]/64)/4) - 1:\n",
    "                #    print(phase + \" - Loss: \" + str(loss.item() * inputs.size(0)) + \"Batch = \" + str(batchCont))\n",
    "                if batchCont % 50 == 0: \n",
    "                    print(\"batch = \",batchCont)\n",
    "            if phase == 'train':\n",
    "                thescheduler.step()\n",
    "\n",
    "            epoch_loss = running_loss / dataset_sizes[phase]\n",
    "            epoch_acc = running_corrects.double() / dataset_sizes[phase]\n",
    "            prefix = ''\n",
    "            if phase == 'val':\n",
    "                prefix = 'val_'\n",
    "\n",
    "            logs[prefix + 'log loss'] = epoch_loss\n",
    "            logs[prefix + 'accuracy'] = epoch_acc\n",
    "\n",
    "            #print('{} Loss: {:.4f} Acc: {:.4f}'.format(\n",
    "            #    phase, epoch_loss, epoch_acc))\n",
    "\n",
    "            # deep copy the model\n",
    "            if phase == 'val' and epoch_acc > best_acc:\n",
    "                best_acc = epoch_acc\n",
    "                #best_model_wts = copy.deepcopy(model.state_dict())\n",
    "                #torch.save(model.state_dict(), \"./mejorActual\")\n",
    "                #the_loss.append(epoch_loss)\n",
    "            if phase == 'val' and epoch_loss < best_loss:\n",
    "                best_loss = epoch_loss\n",
    "                best_model_wts = copy.deepcopy(model.state_dict())\n",
    "                torch.save(model.state_dict(), \"./mejorActual\")\n",
    "            if phase == 'val':\n",
    "                liveloss.update(logs)\n",
    "                liveloss.send()\n",
    "        #print()\n",
    "\n",
    "    time_elapsed = time.time() - since\n",
    "    print('Training complete in {:.0f}m {:.0f}s'.format(\n",
    "        time_elapsed // 60, time_elapsed % 60))\n",
    "    print('Best val Acc: {:4f}'.format(best_acc))\n",
    "\n",
    "    # load best model weights\n",
    "    model.load_state_dict(best_model_wts)\n",
    "    return model, best_loss #np.mean(the_loss)"
   ]
  },
  {
   "cell_type": "code",
   "execution_count": null,
   "metadata": {},
   "outputs": [],
   "source": []
  },
  {
   "cell_type": "code",
   "execution_count": 43,
   "metadata": {},
   "outputs": [
    {
     "name": "stdout",
     "output_type": "stream",
     "text": [
      "True\n"
     ]
    }
   ],
   "source": [
    "print(next(netPr.parameters()).is_cuda)"
   ]
  },
  {
   "cell_type": "code",
   "execution_count": 10,
   "metadata": {},
   "outputs": [
    {
     "name": "stdout",
     "output_type": "stream",
     "text": [
      "143\n"
     ]
    }
   ],
   "source": [
    "#netPr = train_model(netPr, criterion, optimizer, exp_lr_scheduler,\n",
    "#                       num_epochs=2)\n",
    "print(len(theDatasetPr.classes))"
   ]
  },
  {
   "cell_type": "markdown",
   "metadata": {},
   "source": [
    "### Testeo\n",
    "Una vez entrenada la red, podemos obtener la precisión usando el método probing(), aunque dado que esto ya lo realiza el propio entrenamiento, la función más útil sería class_success, que dado el modelo, muestra la precisión del modelo para clasificar cada clase de las que tiene en el conjunto de validación (así como presenta el número de muestras que tiene en el conjunto de esa clase)."
   ]
  },
  {
   "cell_type": "code",
   "execution_count": 39,
   "metadata": {},
   "outputs": [
    {
     "name": "stdout",
     "output_type": "stream",
     "text": [
      "cuda:0\n",
      "451\n",
      "Precision de la red en el dataset imagenes de tests: 84 %\n"
     ]
    }
   ],
   "source": [
    "\n",
    "def probing(model,dataloaders):\n",
    "    correct = 0\n",
    "    total = 0\n",
    "    #classNet = nn.Sequential(*list(model.children())[2])\n",
    "    model.to(device)\n",
    "    print(device)\n",
    "    #netPr.eval()\n",
    "    with torch.no_grad():\n",
    "        cont = 0\n",
    "        for data in dataloaders['val']:\n",
    "            images, labels = data\n",
    "            images, labels = images.to(device), labels.to(device)\n",
    "            outputs =model(images)\n",
    "            _, predicted = torch.max(outputs.data, 1)\n",
    "            total += labels.size(0)\n",
    "            correct += (predicted == labels).sum().item()\n",
    "            cont += 1\n",
    "        print(cont)\n",
    "    print('Precision de la red en el dataset imagenes de tests: %d %%' % (100 * correct / total))\n",
    "probing(classNet.eval(),dataloads)\n"
   ]
  },
  {
   "cell_type": "code",
   "execution_count": 8,
   "metadata": {},
   "outputs": [],
   "source": [
    "def class_success_val(model,dataloaders):\n",
    "    device = torch.device(\"cuda:0\" if torch.cuda.is_available() else \"cpu\")\n",
    "    #netPr.to(device)\n",
    "    lengu = len(theDatasetPr.classes)\n",
    "    class_correct = list(0. for i in range(lengu))\n",
    "    class_total = list(0. for i in range (lengu))\n",
    "    with torch.no_grad():\n",
    "        for data in dataloaders['val']:\n",
    "            images, labels = data\n",
    "            images, labels = images.to(device), labels.to(device)\n",
    "            outputs = classNet(images)\n",
    "            _, predicted = torch.max(outputs,1);\n",
    "            c = (predicted == labels).squeeze()\n",
    "            for i in range(len(labels)):\n",
    "                #if(len(labels) < 4): continue\n",
    "                label = labels[i]\n",
    "                class_correct[label] += c[i].item()\n",
    "                class_total[label] +=1\n",
    "\n",
    "    #for i in range(lengu):\n",
    "    #  print('Accuracy of %5s : %2d %%' % (\n",
    "    #      theDatasetPr.classes[i],100 * class_correct[i]/(max(class_total[i],1))), \"Total = \", class_total[i])\n",
    "    return class_correct,class_total\n"
   ]
  },
  {
   "cell_type": "code",
   "execution_count": 9,
   "metadata": {},
   "outputs": [],
   "source": [
    "def class_success_train(model,dataloaders):\n",
    "    device = torch.device(\"cuda:0\" if torch.cuda.is_available() else \"cpu\")\n",
    "    #netPr.to(device)\n",
    "    lengu = len(theDatasetPr.classes)\n",
    "    class_correct = list(0. for i in range(lengu))\n",
    "    class_total = list(0. for i in range (lengu))\n",
    "    with torch.no_grad():\n",
    "        for data in dataloaders['train']:\n",
    "            images, labels = data\n",
    "            images, labels = images.to(device), labels.to(device)\n",
    "            outputs = classNet(images)\n",
    "            _, predicted = torch.max(outputs,1);\n",
    "            c = (predicted == labels).squeeze()\n",
    "            for i in range(len(labels)):\n",
    "                #if(len(labels) < 4): continue\n",
    "                label = labels[i]\n",
    "                class_correct[label] += c[i].item()\n",
    "                class_total[label] +=1\n",
    "\n",
    "    #for i in range(lengu):\n",
    "    #  print('Accuracy of %5s : %2d %%' % (\n",
    "    #      theDatasetPr.classes[i],100 * class_correct[i]/(max(class_total[i],1))), \"Total = \", class_total[i])\n",
    "    return class_correct, class_total\n"
   ]
  },
  {
   "cell_type": "markdown",
   "metadata": {},
   "source": [
    "### Total de elementos"
   ]
  },
  {
   "cell_type": "code",
   "execution_count": 10,
   "metadata": {},
   "outputs": [],
   "source": [
    "def class_success_total(dataloaders):\n",
    "    lengu = len(theDatasetPr.classes)\n",
    "    class_total = list(0. for i in range (lengu))\n",
    "    with torch.no_grad():\n",
    "        for data in dataloaders['train']:\n",
    "            _, labels = data\n",
    "            for i in range(len(labels)):\n",
    "                label = labels[i]\n",
    "                class_total[label] +=1\n",
    "        for data in dataloaders['val']:\n",
    "            _, labels = data\n",
    "            for i in range(len(labels)):\n",
    "                label = labels[i]\n",
    "                class_total[label] +=1\n",
    "    #for i in range(lengu):\n",
    "    #    print(theDatasetPr.classes[i],\"    Total = \", class_total[i])\n",
    "    return class_total\n",
    "def class_success(dataloaders):\n",
    "    correctVal, totalVal = class_success_val(classNet,dataloaders)#createDataloader(batch_size = 64, num_workers = 0, trainSize = 30000))\n",
    "    print(\" \")\n",
    "    correctTrain, totalTrain = class_success_train(classNet,dataloaders) #createDataloader(batch_size = 64, num_workers = 0, trainSize = 30000))\n",
    "    print(\" \")\n",
    "    totalClass = class_success_total(dataloaders)#createDataloader(batch_size = 64, num_workers = 0, trainSize = 30000))\n",
    "    #print(\"Clase\\t\\t\\tTotal\\t\\t\\tPrecision Val\\t\\t\\tPrecision Train\\t\\t\\tTotal Val\\t\\t\\tTotal Train\")\n",
    "    for i in range(len(theDatasetPr.classes)):\n",
    "        print(\n",
    "          theDatasetPr.classes[i], \"\\t\\t\\t\",totalClass[i] ,\n",
    "            \"\\t\\t\\n Val%\",\n",
    "            (100 * correctVal[i]/(max(totalVal[i],1))),\n",
    "            \"\\t\\t   Train%\",\n",
    "            (100 * correctTrain[i]/(max(totalTrain[i],1))),\n",
    "            \"\\t\\t   VT\",\n",
    "            totalVal[i],\n",
    "            \"\\t\\t   TT\",\n",
    "            totalTrain[i], \n",
    "            \"\\n\"\n",
    "            )\n",
    "#class_success(dataloads)"
   ]
  },
  {
   "cell_type": "markdown",
   "metadata": {},
   "source": [
    "## Preparcación de los datos.\n",
    "Pasaremos las imágenes por la parte convolutiva de la red para obtener sus resultados."
   ]
  },
  {
   "cell_type": "code",
   "execution_count": 11,
   "metadata": {},
   "outputs": [],
   "source": [
    "class specialVGG (nn.Module):\n",
    "    def __init__(self,net):\n",
    "        super(specialVGG,self).__init__()\n",
    "        self.features = net.features[:-7]\n",
    "        self.newFeatures = net.features[-7:]\n",
    "        for param in self.newFeatures.parameters():\n",
    "            param.require_grad = True\n",
    "        self.avgpool = net.avgpool\n",
    "        self.classifier = net.classifier\n",
    "    def forward(self,x):\n",
    "        x = self.newFeatures(x)\n",
    "        x = self.avgpool(x)\n",
    "        x = torch.flatten(x, 1)\n",
    "        x = self.classifier(x)\n",
    "        return x\n"
   ]
  },
  {
   "cell_type": "code",
   "execution_count": 8,
   "metadata": {},
   "outputs": [
    {
     "ename": "NameError",
     "evalue": "name 'netPr' is not defined",
     "output_type": "error",
     "traceback": [
      "\u001b[0;31m---------------------------------------------------------------------------\u001b[0m",
      "\u001b[0;31mNameError\u001b[0m                                 Traceback (most recent call last)",
      "\u001b[0;32m<ipython-input-8-1ef1a95a8f33>\u001b[0m in \u001b[0;36m<module>\u001b[0;34m\u001b[0m\n\u001b[1;32m      1\u001b[0m \u001b[0;31m##print(netPr)\u001b[0m\u001b[0;34m\u001b[0m\u001b[0;34m\u001b[0m\u001b[0;34m\u001b[0m\u001b[0m\n\u001b[1;32m      2\u001b[0m \u001b[0;31m##\u001b[0m\u001b[0;34m\u001b[0m\u001b[0;34m\u001b[0m\u001b[0;34m\u001b[0m\u001b[0m\n\u001b[0;32m----> 3\u001b[0;31m \u001b[0mthenotClassNet\u001b[0m \u001b[0;34m=\u001b[0m \u001b[0mnn\u001b[0m\u001b[0;34m.\u001b[0m\u001b[0mSequential\u001b[0m\u001b[0;34m(\u001b[0m\u001b[0;34m*\u001b[0m\u001b[0mlist\u001b[0m\u001b[0;34m(\u001b[0m\u001b[0mnetPr\u001b[0m\u001b[0;34m.\u001b[0m\u001b[0mchildren\u001b[0m\u001b[0;34m(\u001b[0m\u001b[0;34m)\u001b[0m\u001b[0;34m)\u001b[0m\u001b[0;34m[\u001b[0m\u001b[0;34m:\u001b[0m\u001b[0;34m-\u001b[0m\u001b[0;36m1\u001b[0m\u001b[0;34m]\u001b[0m\u001b[0;34m)\u001b[0m\u001b[0;34m\u001b[0m\u001b[0;34m\u001b[0m\u001b[0m\n\u001b[0m\u001b[1;32m      4\u001b[0m \u001b[0;31m###alsoNotClassNet = list(netPr.children())[1]\u001b[0m\u001b[0;34m\u001b[0m\u001b[0;34m\u001b[0m\u001b[0;34m\u001b[0m\u001b[0m\n\u001b[1;32m      5\u001b[0m \u001b[0;31m#print(notClassNet)\u001b[0m\u001b[0;34m\u001b[0m\u001b[0;34m\u001b[0m\u001b[0;34m\u001b[0m\u001b[0m\n",
      "\u001b[0;31mNameError\u001b[0m: name 'netPr' is not defined"
     ]
    }
   ],
   "source": [
    "##print(netPr)\n",
    "##\n",
    "thenotClassNet = nn.Sequential(*list(netPr.children())[:-1])\n",
    "###alsoNotClassNet = list(netPr.children())[1]\n",
    "#print(notClassNet)\n",
    "#\n",
    "#\n",
    "theclassNet = nn.Sequential(*list(netPr.children())[2])\n",
    "#print(classNet)\n",
    "#xxx = specialVGG(netPr)\n",
    "#xxx.to(device)\n",
    "#xxx.cuda\n",
    "#xxx.eval\n",
    "theDatasetPr.changeSource(0)\n",
    "#notClassNet = nn.Sequential(*list(xxx.children())[0])\n",
    "#print(notClassNet)\n",
    "theDatasetPr.completePreNet(thenotClassNet)\n",
    "#theDatasetPr.oldPreNet(notClassNet)\n",
    "theDatasetPr.changeSource(2)\n",
    "    "
   ]
  },
  {
   "cell_type": "code",
   "execution_count": 31,
   "metadata": {},
   "outputs": [
    {
     "name": "stdout",
     "output_type": "stream",
     "text": [
      "Sequential(\n",
      "  (0): Conv2d(3, 64, kernel_size=(3, 3), stride=(1, 1), padding=(1, 1))\n",
      "  (1): BatchNorm2d(64, eps=1e-05, momentum=0.1, affine=True, track_running_stats=True)\n",
      "  (2): ReLU(inplace=True)\n",
      "  (3): Conv2d(64, 64, kernel_size=(3, 3), stride=(1, 1), padding=(1, 1))\n",
      "  (4): BatchNorm2d(64, eps=1e-05, momentum=0.1, affine=True, track_running_stats=True)\n",
      "  (5): ReLU(inplace=True)\n",
      "  (6): MaxPool2d(kernel_size=2, stride=2, padding=0, dilation=1, ceil_mode=False)\n",
      "  (7): Conv2d(64, 128, kernel_size=(3, 3), stride=(1, 1), padding=(1, 1))\n",
      "  (8): BatchNorm2d(128, eps=1e-05, momentum=0.1, affine=True, track_running_stats=True)\n",
      "  (9): ReLU(inplace=True)\n",
      "  (10): Conv2d(128, 128, kernel_size=(3, 3), stride=(1, 1), padding=(1, 1))\n",
      "  (11): BatchNorm2d(128, eps=1e-05, momentum=0.1, affine=True, track_running_stats=True)\n",
      "  (12): ReLU(inplace=True)\n",
      "  (13): MaxPool2d(kernel_size=2, stride=2, padding=0, dilation=1, ceil_mode=False)\n",
      "  (14): Conv2d(128, 256, kernel_size=(3, 3), stride=(1, 1), padding=(1, 1))\n",
      "  (15): BatchNorm2d(256, eps=1e-05, momentum=0.1, affine=True, track_running_stats=True)\n",
      "  (16): ReLU(inplace=True)\n",
      "  (17): Conv2d(256, 256, kernel_size=(3, 3), stride=(1, 1), padding=(1, 1))\n",
      "  (18): BatchNorm2d(256, eps=1e-05, momentum=0.1, affine=True, track_running_stats=True)\n",
      "  (19): ReLU(inplace=True)\n",
      "  (20): Conv2d(256, 256, kernel_size=(3, 3), stride=(1, 1), padding=(1, 1))\n",
      "  (21): BatchNorm2d(256, eps=1e-05, momentum=0.1, affine=True, track_running_stats=True)\n",
      "  (22): ReLU(inplace=True)\n",
      "  (23): MaxPool2d(kernel_size=2, stride=2, padding=0, dilation=1, ceil_mode=False)\n",
      "  (24): Conv2d(256, 512, kernel_size=(3, 3), stride=(1, 1), padding=(1, 1))\n",
      "  (25): BatchNorm2d(512, eps=1e-05, momentum=0.1, affine=True, track_running_stats=True)\n",
      "  (26): ReLU(inplace=True)\n",
      "  (27): Conv2d(512, 512, kernel_size=(3, 3), stride=(1, 1), padding=(1, 1))\n",
      "  (28): BatchNorm2d(512, eps=1e-05, momentum=0.1, affine=True, track_running_stats=True)\n",
      "  (29): ReLU(inplace=True)\n",
      "  (30): Conv2d(512, 512, kernel_size=(3, 3), stride=(1, 1), padding=(1, 1))\n",
      "  (31): BatchNorm2d(512, eps=1e-05, momentum=0.1, affine=True, track_running_stats=True)\n",
      "  (32): ReLU(inplace=True)\n",
      "  (33): MaxPool2d(kernel_size=2, stride=2, padding=0, dilation=1, ceil_mode=False)\n",
      "  (34): Conv2d(512, 512, kernel_size=(3, 3), stride=(1, 1), padding=(1, 1))\n",
      "  (35): BatchNorm2d(512, eps=1e-05, momentum=0.1, affine=True, track_running_stats=True)\n",
      "  (36): ReLU(inplace=True)\n",
      ")\n",
      "cuda:0\n",
      "0\n",
      "1000\n",
      "2000\n",
      "3000\n",
      "4000\n",
      "5000\n",
      "6000\n",
      "7000\n",
      "8000\n",
      "9000\n",
      "10000\n",
      "11000\n",
      "12000\n",
      "13000\n",
      "14000\n",
      "15000\n",
      "16000\n",
      "17000\n",
      "18000\n",
      "19000\n",
      "20000\n",
      "21000\n",
      "22000\n",
      "23000\n",
      "24000\n",
      "25000\n",
      "26000\n",
      "27000\n",
      "28000\n",
      "29000\n",
      "30000\n",
      "31000\n",
      "32000\n",
      "33000\n",
      "34000\n",
      "35000\n",
      "36000\n",
      "37000\n",
      "38000\n",
      "39000\n",
      "40000\n",
      "41000\n",
      "42000\n",
      "43000\n",
      "44000\n"
     ]
    }
   ],
   "source": [
    "##print(netPr)\n",
    "##\n",
    "thenotClassNet = nn.Sequential(*list(netPr.children())[:-1])\n",
    "###alsoNotClassNet = list(netPr.children())[1]\n",
    "#print(notClassNet)\n",
    "#\n",
    "#\n",
    "theclassNet = nn.Sequential(*list(netPr.children())[2])\n",
    "#print(classNet)\n",
    "xxx = specialVGG(netPr)\n",
    "xxx.to(device)\n",
    "xxx.cuda\n",
    "xxx.eval\n",
    "theDatasetPr.changeSource(0)\n",
    "thenotClassNet = nn.Sequential(*list(xxx.children())[0])\n",
    "print(thenotClassNet)\n",
    "theDatasetPr.midPreNet(thenotClassNet)\n",
    "#theDatasetPr.oldPreNet(notClassNet)\n",
    "theDatasetPr.changeSource(1)\n"
   ]
  },
  {
   "cell_type": "code",
   "execution_count": 12,
   "metadata": {},
   "outputs": [
    {
     "ename": "KeyboardInterrupt",
     "evalue": "",
     "output_type": "error",
     "traceback": [
      "\u001b[0;31m---------------------------------------------------------------------------\u001b[0m",
      "\u001b[0;31mKeyError\u001b[0m                                  Traceback (most recent call last)",
      "\u001b[0;32m/usr/local/lib/python3.6/dist-packages/pandas/core/series.py\u001b[0m in \u001b[0;36m_set_with_engine\u001b[0;34m(self, key, value)\u001b[0m\n\u001b[1;32m   1247\u001b[0m         \u001b[0;32mtry\u001b[0m\u001b[0;34m:\u001b[0m\u001b[0;34m\u001b[0m\u001b[0;34m\u001b[0m\u001b[0m\n\u001b[0;32m-> 1248\u001b[0;31m             \u001b[0mself\u001b[0m\u001b[0;34m.\u001b[0m\u001b[0mindex\u001b[0m\u001b[0;34m.\u001b[0m\u001b[0m_engine\u001b[0m\u001b[0;34m.\u001b[0m\u001b[0mset_value\u001b[0m\u001b[0;34m(\u001b[0m\u001b[0mvalues\u001b[0m\u001b[0;34m,\u001b[0m \u001b[0mkey\u001b[0m\u001b[0;34m,\u001b[0m \u001b[0mvalue\u001b[0m\u001b[0;34m)\u001b[0m\u001b[0;34m\u001b[0m\u001b[0;34m\u001b[0m\u001b[0m\n\u001b[0m\u001b[1;32m   1249\u001b[0m             \u001b[0;32mreturn\u001b[0m\u001b[0;34m\u001b[0m\u001b[0;34m\u001b[0m\u001b[0m\n",
      "\u001b[0;32mpandas/_libs/index.pyx\u001b[0m in \u001b[0;36mpandas._libs.index.IndexEngine.set_value\u001b[0;34m()\u001b[0m\n",
      "\u001b[0;32mpandas/_libs/index.pyx\u001b[0m in \u001b[0;36mpandas._libs.index.IndexEngine.set_value\u001b[0;34m()\u001b[0m\n",
      "\u001b[0;32mpandas/_libs/index.pyx\u001b[0m in \u001b[0;36mpandas._libs.index.IndexEngine.get_loc\u001b[0;34m()\u001b[0m\n",
      "\u001b[0;32mpandas/_libs/hashtable_class_helper.pxi\u001b[0m in \u001b[0;36mpandas._libs.hashtable.PyObjectHashTable.get_item\u001b[0;34m()\u001b[0m\n",
      "\u001b[0;32mpandas/_libs/hashtable_class_helper.pxi\u001b[0m in \u001b[0;36mpandas._libs.hashtable.PyObjectHashTable.get_item\u001b[0;34m()\u001b[0m\n",
      "\u001b[0;31mKeyError\u001b[0m: 'completeConvolutive'",
      "\nDuring handling of the above exception, another exception occurred:\n",
      "\u001b[0;31mKeyError\u001b[0m                                  Traceback (most recent call last)",
      "\u001b[0;32m/usr/local/lib/python3.6/dist-packages/pandas/core/indexes/base.py\u001b[0m in \u001b[0;36mget_loc\u001b[0;34m(self, key, method, tolerance)\u001b[0m\n\u001b[1;32m   2889\u001b[0m             \u001b[0;32mtry\u001b[0m\u001b[0;34m:\u001b[0m\u001b[0;34m\u001b[0m\u001b[0;34m\u001b[0m\u001b[0m\n\u001b[0;32m-> 2890\u001b[0;31m                 \u001b[0;32mreturn\u001b[0m \u001b[0mself\u001b[0m\u001b[0;34m.\u001b[0m\u001b[0m_engine\u001b[0m\u001b[0;34m.\u001b[0m\u001b[0mget_loc\u001b[0m\u001b[0;34m(\u001b[0m\u001b[0mkey\u001b[0m\u001b[0;34m)\u001b[0m\u001b[0;34m\u001b[0m\u001b[0;34m\u001b[0m\u001b[0m\n\u001b[0m\u001b[1;32m   2891\u001b[0m             \u001b[0;32mexcept\u001b[0m \u001b[0mKeyError\u001b[0m\u001b[0;34m:\u001b[0m\u001b[0;34m\u001b[0m\u001b[0;34m\u001b[0m\u001b[0m\n",
      "\u001b[0;32mpandas/_libs/index.pyx\u001b[0m in \u001b[0;36mpandas._libs.index.IndexEngine.get_loc\u001b[0;34m()\u001b[0m\n",
      "\u001b[0;32mpandas/_libs/index.pyx\u001b[0m in \u001b[0;36mpandas._libs.index.IndexEngine.get_loc\u001b[0;34m()\u001b[0m\n",
      "\u001b[0;32mpandas/_libs/hashtable_class_helper.pxi\u001b[0m in \u001b[0;36mpandas._libs.hashtable.PyObjectHashTable.get_item\u001b[0;34m()\u001b[0m\n",
      "\u001b[0;32mpandas/_libs/hashtable_class_helper.pxi\u001b[0m in \u001b[0;36mpandas._libs.hashtable.PyObjectHashTable.get_item\u001b[0;34m()\u001b[0m\n",
      "\u001b[0;31mKeyError\u001b[0m: 'completeConvolutive'",
      "\nDuring handling of the above exception, another exception occurred:\n",
      "\u001b[0;31mKeyError\u001b[0m                                  Traceback (most recent call last)",
      "\u001b[0;32m/usr/local/lib/python3.6/dist-packages/pandas/core/series.py\u001b[0m in \u001b[0;36msetitem\u001b[0;34m(key, value)\u001b[0m\n\u001b[1;32m   1185\u001b[0m             \u001b[0;32mtry\u001b[0m\u001b[0;34m:\u001b[0m\u001b[0;34m\u001b[0m\u001b[0;34m\u001b[0m\u001b[0m\n\u001b[0;32m-> 1186\u001b[0;31m                 \u001b[0mself\u001b[0m\u001b[0;34m.\u001b[0m\u001b[0m_set_with_engine\u001b[0m\u001b[0;34m(\u001b[0m\u001b[0mkey\u001b[0m\u001b[0;34m,\u001b[0m \u001b[0mvalue\u001b[0m\u001b[0;34m)\u001b[0m\u001b[0;34m\u001b[0m\u001b[0;34m\u001b[0m\u001b[0m\n\u001b[0m\u001b[1;32m   1187\u001b[0m                 \u001b[0;32mreturn\u001b[0m\u001b[0;34m\u001b[0m\u001b[0;34m\u001b[0m\u001b[0m\n",
      "\u001b[0;32m/usr/local/lib/python3.6/dist-packages/pandas/core/series.py\u001b[0m in \u001b[0;36m_set_with_engine\u001b[0;34m(self, key, value)\u001b[0m\n\u001b[1;32m   1250\u001b[0m         \u001b[0;32mexcept\u001b[0m \u001b[0mKeyError\u001b[0m\u001b[0;34m:\u001b[0m\u001b[0;34m\u001b[0m\u001b[0;34m\u001b[0m\u001b[0m\n\u001b[0;32m-> 1251\u001b[0;31m             \u001b[0mvalues\u001b[0m\u001b[0;34m[\u001b[0m\u001b[0mself\u001b[0m\u001b[0;34m.\u001b[0m\u001b[0mindex\u001b[0m\u001b[0;34m.\u001b[0m\u001b[0mget_loc\u001b[0m\u001b[0;34m(\u001b[0m\u001b[0mkey\u001b[0m\u001b[0;34m)\u001b[0m\u001b[0;34m]\u001b[0m \u001b[0;34m=\u001b[0m \u001b[0mvalue\u001b[0m\u001b[0;34m\u001b[0m\u001b[0;34m\u001b[0m\u001b[0m\n\u001b[0m\u001b[1;32m   1252\u001b[0m             \u001b[0;32mreturn\u001b[0m\u001b[0;34m\u001b[0m\u001b[0;34m\u001b[0m\u001b[0m\n",
      "\u001b[0;32m/usr/local/lib/python3.6/dist-packages/pandas/core/indexes/base.py\u001b[0m in \u001b[0;36mget_loc\u001b[0;34m(self, key, method, tolerance)\u001b[0m\n\u001b[1;32m   2891\u001b[0m             \u001b[0;32mexcept\u001b[0m \u001b[0mKeyError\u001b[0m\u001b[0;34m:\u001b[0m\u001b[0;34m\u001b[0m\u001b[0;34m\u001b[0m\u001b[0m\n\u001b[0;32m-> 2892\u001b[0;31m                 \u001b[0;32mreturn\u001b[0m \u001b[0mself\u001b[0m\u001b[0;34m.\u001b[0m\u001b[0m_engine\u001b[0m\u001b[0;34m.\u001b[0m\u001b[0mget_loc\u001b[0m\u001b[0;34m(\u001b[0m\u001b[0mself\u001b[0m\u001b[0;34m.\u001b[0m\u001b[0m_maybe_cast_indexer\u001b[0m\u001b[0;34m(\u001b[0m\u001b[0mkey\u001b[0m\u001b[0;34m)\u001b[0m\u001b[0;34m)\u001b[0m\u001b[0;34m\u001b[0m\u001b[0;34m\u001b[0m\u001b[0m\n\u001b[0m\u001b[1;32m   2893\u001b[0m         \u001b[0mindexer\u001b[0m \u001b[0;34m=\u001b[0m \u001b[0mself\u001b[0m\u001b[0;34m.\u001b[0m\u001b[0mget_indexer\u001b[0m\u001b[0;34m(\u001b[0m\u001b[0;34m[\u001b[0m\u001b[0mkey\u001b[0m\u001b[0;34m]\u001b[0m\u001b[0;34m,\u001b[0m \u001b[0mmethod\u001b[0m\u001b[0;34m=\u001b[0m\u001b[0mmethod\u001b[0m\u001b[0;34m,\u001b[0m \u001b[0mtolerance\u001b[0m\u001b[0;34m=\u001b[0m\u001b[0mtolerance\u001b[0m\u001b[0;34m)\u001b[0m\u001b[0;34m\u001b[0m\u001b[0;34m\u001b[0m\u001b[0m\n",
      "\u001b[0;32mpandas/_libs/index.pyx\u001b[0m in \u001b[0;36mpandas._libs.index.IndexEngine.get_loc\u001b[0;34m()\u001b[0m\n",
      "\u001b[0;32mpandas/_libs/index.pyx\u001b[0m in \u001b[0;36mpandas._libs.index.IndexEngine.get_loc\u001b[0;34m()\u001b[0m\n",
      "\u001b[0;32mpandas/_libs/hashtable_class_helper.pxi\u001b[0m in \u001b[0;36mpandas._libs.hashtable.PyObjectHashTable.get_item\u001b[0;34m()\u001b[0m\n",
      "\u001b[0;32mpandas/_libs/hashtable_class_helper.pxi\u001b[0m in \u001b[0;36mpandas._libs.hashtable.PyObjectHashTable.get_item\u001b[0;34m()\u001b[0m\n",
      "\u001b[0;31mKeyError\u001b[0m: 'completeConvolutive'",
      "\nDuring handling of the above exception, another exception occurred:\n",
      "\u001b[0;31mKeyboardInterrupt\u001b[0m                         Traceback (most recent call last)",
      "\u001b[0;32m<ipython-input-12-73593f6da2ce>\u001b[0m in \u001b[0;36m<module>\u001b[0;34m\u001b[0m\n\u001b[1;32m      1\u001b[0m \u001b[0mtheDatasetPr\u001b[0m\u001b[0;34m.\u001b[0m\u001b[0mchangeSource\u001b[0m\u001b[0;34m(\u001b[0m\u001b[0;36m0\u001b[0m\u001b[0;34m)\u001b[0m\u001b[0;34m\u001b[0m\u001b[0;34m\u001b[0m\u001b[0m\n\u001b[0;32m----> 2\u001b[0;31m \u001b[0mtheDatasetPr\u001b[0m\u001b[0;34m.\u001b[0m\u001b[0mpreparationForPreConvolutive\u001b[0m\u001b[0;34m(\u001b[0m\u001b[0;36m2\u001b[0m\u001b[0;34m)\u001b[0m\u001b[0;34m\u001b[0m\u001b[0;34m\u001b[0m\u001b[0m\n\u001b[0m\u001b[1;32m      3\u001b[0m \u001b[0mtheDatasetPr\u001b[0m\u001b[0;34m.\u001b[0m\u001b[0mchangeSource\u001b[0m\u001b[0;34m(\u001b[0m\u001b[0;36m2\u001b[0m\u001b[0;34m)\u001b[0m\u001b[0;34m\u001b[0m\u001b[0;34m\u001b[0m\u001b[0m\n",
      "\u001b[0;32m<ipython-input-5-360feb08fd9b>\u001b[0m in \u001b[0;36mpreparationForPreConvolutive\u001b[0;34m(self, mode)\u001b[0m\n\u001b[1;32m     65\u001b[0m         \u001b[0;32melif\u001b[0m \u001b[0mmode\u001b[0m \u001b[0;34m==\u001b[0m \u001b[0;36m2\u001b[0m\u001b[0;34m:\u001b[0m\u001b[0;34m\u001b[0m\u001b[0;34m\u001b[0m\u001b[0m\n\u001b[1;32m     66\u001b[0m             \u001b[0;32mfor\u001b[0m \u001b[0mindex\u001b[0m \u001b[0;32min\u001b[0m \u001b[0mrange\u001b[0m\u001b[0;34m(\u001b[0m\u001b[0mlen\u001b[0m\u001b[0;34m(\u001b[0m\u001b[0mself\u001b[0m\u001b[0;34m.\u001b[0m\u001b[0mfile_list\u001b[0m\u001b[0;34m)\u001b[0m\u001b[0;34m)\u001b[0m\u001b[0;34m:\u001b[0m\u001b[0;34m\u001b[0m\u001b[0;34m\u001b[0m\u001b[0m\n\u001b[0;32m---> 67\u001b[0;31m                 \u001b[0mself\u001b[0m\u001b[0;34m.\u001b[0m\u001b[0mfile_list\u001b[0m\u001b[0;34m[\u001b[0m\u001b[0mindex\u001b[0m\u001b[0;34m]\u001b[0m\u001b[0;34m[\u001b[0m\u001b[0;34m'completeConvolutive'\u001b[0m\u001b[0;34m]\u001b[0m \u001b[0;34m=\u001b[0m \u001b[0;34m\"/storage/convolutiveResults/file\"\u001b[0m \u001b[0;34m+\u001b[0m \u001b[0mstr\u001b[0m\u001b[0;34m(\u001b[0m\u001b[0mindex\u001b[0m\u001b[0;34m)\u001b[0m\u001b[0;34m;\u001b[0m\u001b[0;34m\u001b[0m\u001b[0;34m\u001b[0m\u001b[0m\n\u001b[0m\u001b[1;32m     68\u001b[0m     \u001b[0;31m#def PreNet(self, notClassNet):\u001b[0m\u001b[0;34m\u001b[0m\u001b[0;34m\u001b[0m\u001b[0;34m\u001b[0m\u001b[0m\n\u001b[1;32m     69\u001b[0m     \u001b[0;31m#    files = []\u001b[0m\u001b[0;34m\u001b[0m\u001b[0;34m\u001b[0m\u001b[0;34m\u001b[0m\u001b[0m\n",
      "\u001b[0;32m/usr/local/lib/python3.6/dist-packages/pandas/core/series.py\u001b[0m in \u001b[0;36m__setitem__\u001b[0;34m(self, key, value)\u001b[0m\n\u001b[1;32m   1235\u001b[0m         \u001b[0;31m# do the setitem\u001b[0m\u001b[0;34m\u001b[0m\u001b[0;34m\u001b[0m\u001b[0;34m\u001b[0m\u001b[0m\n\u001b[1;32m   1236\u001b[0m         \u001b[0mcacher_needs_updating\u001b[0m \u001b[0;34m=\u001b[0m \u001b[0mself\u001b[0m\u001b[0;34m.\u001b[0m\u001b[0m_check_is_chained_assignment_possible\u001b[0m\u001b[0;34m(\u001b[0m\u001b[0;34m)\u001b[0m\u001b[0;34m\u001b[0m\u001b[0;34m\u001b[0m\u001b[0m\n\u001b[0;32m-> 1237\u001b[0;31m         \u001b[0msetitem\u001b[0m\u001b[0;34m(\u001b[0m\u001b[0mkey\u001b[0m\u001b[0;34m,\u001b[0m \u001b[0mvalue\u001b[0m\u001b[0;34m)\u001b[0m\u001b[0;34m\u001b[0m\u001b[0;34m\u001b[0m\u001b[0m\n\u001b[0m\u001b[1;32m   1238\u001b[0m         \u001b[0;32mif\u001b[0m \u001b[0mcacher_needs_updating\u001b[0m\u001b[0;34m:\u001b[0m\u001b[0;34m\u001b[0m\u001b[0;34m\u001b[0m\u001b[0m\n\u001b[1;32m   1239\u001b[0m             \u001b[0mself\u001b[0m\u001b[0;34m.\u001b[0m\u001b[0m_maybe_update_cacher\u001b[0m\u001b[0;34m(\u001b[0m\u001b[0;34m)\u001b[0m\u001b[0;34m\u001b[0m\u001b[0;34m\u001b[0m\u001b[0m\n",
      "\u001b[0;32m/usr/local/lib/python3.6/dist-packages/pandas/core/series.py\u001b[0m in \u001b[0;36msetitem\u001b[0;34m(key, value)\u001b[0m\n\u001b[1;32m   1212\u001b[0m                             \u001b[0;32mpass\u001b[0m\u001b[0;34m\u001b[0m\u001b[0;34m\u001b[0m\u001b[0m\n\u001b[1;32m   1213\u001b[0m \u001b[0;34m\u001b[0m\u001b[0m\n\u001b[0;32m-> 1214\u001b[0;31m                 \u001b[0mself\u001b[0m\u001b[0;34m.\u001b[0m\u001b[0mloc\u001b[0m\u001b[0;34m[\u001b[0m\u001b[0mkey\u001b[0m\u001b[0;34m]\u001b[0m \u001b[0;34m=\u001b[0m \u001b[0mvalue\u001b[0m\u001b[0;34m\u001b[0m\u001b[0;34m\u001b[0m\u001b[0m\n\u001b[0m\u001b[1;32m   1215\u001b[0m                 \u001b[0;32mreturn\u001b[0m\u001b[0;34m\u001b[0m\u001b[0;34m\u001b[0m\u001b[0m\n\u001b[1;32m   1216\u001b[0m \u001b[0;34m\u001b[0m\u001b[0m\n",
      "\u001b[0;32m/usr/local/lib/python3.6/dist-packages/pandas/core/indexing.py\u001b[0m in \u001b[0;36m__setitem__\u001b[0;34m(self, key, value)\u001b[0m\n\u001b[1;32m    200\u001b[0m             \u001b[0mkey\u001b[0m \u001b[0;34m=\u001b[0m \u001b[0mcom\u001b[0m\u001b[0;34m.\u001b[0m\u001b[0mapply_if_callable\u001b[0m\u001b[0;34m(\u001b[0m\u001b[0mkey\u001b[0m\u001b[0;34m,\u001b[0m \u001b[0mself\u001b[0m\u001b[0;34m.\u001b[0m\u001b[0mobj\u001b[0m\u001b[0;34m)\u001b[0m\u001b[0;34m\u001b[0m\u001b[0;34m\u001b[0m\u001b[0m\n\u001b[1;32m    201\u001b[0m         \u001b[0mindexer\u001b[0m \u001b[0;34m=\u001b[0m \u001b[0mself\u001b[0m\u001b[0;34m.\u001b[0m\u001b[0m_get_setitem_indexer\u001b[0m\u001b[0;34m(\u001b[0m\u001b[0mkey\u001b[0m\u001b[0;34m)\u001b[0m\u001b[0;34m\u001b[0m\u001b[0;34m\u001b[0m\u001b[0m\n\u001b[0;32m--> 202\u001b[0;31m         \u001b[0mself\u001b[0m\u001b[0;34m.\u001b[0m\u001b[0m_setitem_with_indexer\u001b[0m\u001b[0;34m(\u001b[0m\u001b[0mindexer\u001b[0m\u001b[0;34m,\u001b[0m \u001b[0mvalue\u001b[0m\u001b[0;34m)\u001b[0m\u001b[0;34m\u001b[0m\u001b[0;34m\u001b[0m\u001b[0m\n\u001b[0m\u001b[1;32m    203\u001b[0m \u001b[0;34m\u001b[0m\u001b[0m\n\u001b[1;32m    204\u001b[0m     \u001b[0;32mdef\u001b[0m \u001b[0m_validate_key\u001b[0m\u001b[0;34m(\u001b[0m\u001b[0mself\u001b[0m\u001b[0;34m,\u001b[0m \u001b[0mkey\u001b[0m\u001b[0;34m,\u001b[0m \u001b[0maxis\u001b[0m\u001b[0;34m:\u001b[0m \u001b[0mint\u001b[0m\u001b[0;34m)\u001b[0m\u001b[0;34m:\u001b[0m\u001b[0;34m\u001b[0m\u001b[0;34m\u001b[0m\u001b[0m\n",
      "\u001b[0;32m/usr/local/lib/python3.6/dist-packages/pandas/core/indexing.py\u001b[0m in \u001b[0;36m_setitem_with_indexer\u001b[0;34m(self, indexer, value)\u001b[0m\n\u001b[1;32m    390\u001b[0m \u001b[0;34m\u001b[0m\u001b[0m\n\u001b[1;32m    391\u001b[0m             \u001b[0;32mif\u001b[0m \u001b[0mmissing\u001b[0m\u001b[0;34m:\u001b[0m\u001b[0;34m\u001b[0m\u001b[0;34m\u001b[0m\u001b[0m\n\u001b[0;32m--> 392\u001b[0;31m                 \u001b[0;32mreturn\u001b[0m \u001b[0mself\u001b[0m\u001b[0;34m.\u001b[0m\u001b[0m_setitem_with_indexer_missing\u001b[0m\u001b[0;34m(\u001b[0m\u001b[0mindexer\u001b[0m\u001b[0;34m,\u001b[0m \u001b[0mvalue\u001b[0m\u001b[0;34m)\u001b[0m\u001b[0;34m\u001b[0m\u001b[0;34m\u001b[0m\u001b[0m\n\u001b[0m\u001b[1;32m    393\u001b[0m \u001b[0;34m\u001b[0m\u001b[0m\n\u001b[1;32m    394\u001b[0m         \u001b[0;31m# set\u001b[0m\u001b[0;34m\u001b[0m\u001b[0;34m\u001b[0m\u001b[0;34m\u001b[0m\u001b[0m\n",
      "\u001b[0;32m/usr/local/lib/python3.6/dist-packages/pandas/core/indexing.py\u001b[0m in \u001b[0;36m_setitem_with_indexer_missing\u001b[0;34m(self, indexer, value)\u001b[0m\n\u001b[1;32m    608\u001b[0m                 \u001b[0;31m# GH#22717 handle casting compatibility that np.concatenate\u001b[0m\u001b[0;34m\u001b[0m\u001b[0;34m\u001b[0m\u001b[0;34m\u001b[0m\u001b[0m\n\u001b[1;32m    609\u001b[0m                 \u001b[0;31m#  does incorrectly\u001b[0m\u001b[0;34m\u001b[0m\u001b[0;34m\u001b[0m\u001b[0;34m\u001b[0m\u001b[0m\n\u001b[0;32m--> 610\u001b[0;31m                 \u001b[0mnew_values\u001b[0m \u001b[0;34m=\u001b[0m \u001b[0m_concat_compat\u001b[0m\u001b[0;34m(\u001b[0m\u001b[0;34m[\u001b[0m\u001b[0mself\u001b[0m\u001b[0;34m.\u001b[0m\u001b[0mobj\u001b[0m\u001b[0;34m.\u001b[0m\u001b[0m_values\u001b[0m\u001b[0;34m,\u001b[0m \u001b[0mnew_values\u001b[0m\u001b[0;34m]\u001b[0m\u001b[0;34m)\u001b[0m\u001b[0;34m\u001b[0m\u001b[0;34m\u001b[0m\u001b[0m\n\u001b[0m\u001b[1;32m    611\u001b[0m             self.obj._data = self.obj._constructor(\n\u001b[1;32m    612\u001b[0m                 \u001b[0mnew_values\u001b[0m\u001b[0;34m,\u001b[0m \u001b[0mindex\u001b[0m\u001b[0;34m=\u001b[0m\u001b[0mnew_index\u001b[0m\u001b[0;34m,\u001b[0m \u001b[0mname\u001b[0m\u001b[0;34m=\u001b[0m\u001b[0mself\u001b[0m\u001b[0;34m.\u001b[0m\u001b[0mobj\u001b[0m\u001b[0;34m.\u001b[0m\u001b[0mname\u001b[0m\u001b[0;34m\u001b[0m\u001b[0;34m\u001b[0m\u001b[0m\n",
      "\u001b[0;32m/usr/local/lib/python3.6/dist-packages/pandas/core/dtypes/concat.py\u001b[0m in \u001b[0;36m_concat_compat\u001b[0;34m(to_concat, axis)\u001b[0m\n\u001b[1;32m    154\u001b[0m         \u001b[0;32mreturn\u001b[0m \u001b[0m_concat_sparse\u001b[0m\u001b[0;34m(\u001b[0m\u001b[0mto_concat\u001b[0m\u001b[0;34m,\u001b[0m \u001b[0maxis\u001b[0m\u001b[0;34m=\u001b[0m\u001b[0maxis\u001b[0m\u001b[0;34m,\u001b[0m \u001b[0mtyps\u001b[0m\u001b[0;34m=\u001b[0m\u001b[0mtyps\u001b[0m\u001b[0;34m)\u001b[0m\u001b[0;34m\u001b[0m\u001b[0;34m\u001b[0m\u001b[0m\n\u001b[1;32m    155\u001b[0m \u001b[0;34m\u001b[0m\u001b[0m\n\u001b[0;32m--> 156\u001b[0;31m     \u001b[0mall_empty\u001b[0m \u001b[0;34m=\u001b[0m \u001b[0mall\u001b[0m\u001b[0;34m(\u001b[0m\u001b[0;32mnot\u001b[0m \u001b[0mis_nonempty\u001b[0m\u001b[0;34m(\u001b[0m\u001b[0mx\u001b[0m\u001b[0;34m)\u001b[0m \u001b[0;32mfor\u001b[0m \u001b[0mx\u001b[0m \u001b[0;32min\u001b[0m \u001b[0mto_concat\u001b[0m\u001b[0;34m)\u001b[0m\u001b[0;34m\u001b[0m\u001b[0;34m\u001b[0m\u001b[0m\n\u001b[0m\u001b[1;32m    157\u001b[0m     \u001b[0;32mif\u001b[0m \u001b[0many\u001b[0m\u001b[0;34m(\u001b[0m\u001b[0mis_extension_array_dtype\u001b[0m\u001b[0;34m(\u001b[0m\u001b[0mx\u001b[0m\u001b[0;34m)\u001b[0m \u001b[0;32mfor\u001b[0m \u001b[0mx\u001b[0m \u001b[0;32min\u001b[0m \u001b[0mto_concat\u001b[0m\u001b[0;34m)\u001b[0m \u001b[0;32mand\u001b[0m \u001b[0maxis\u001b[0m \u001b[0;34m==\u001b[0m \u001b[0;36m1\u001b[0m\u001b[0;34m:\u001b[0m\u001b[0;34m\u001b[0m\u001b[0;34m\u001b[0m\u001b[0m\n\u001b[1;32m    158\u001b[0m         \u001b[0mto_concat\u001b[0m \u001b[0;34m=\u001b[0m \u001b[0;34m[\u001b[0m\u001b[0mnp\u001b[0m\u001b[0;34m.\u001b[0m\u001b[0matleast_2d\u001b[0m\u001b[0;34m(\u001b[0m\u001b[0mx\u001b[0m\u001b[0;34m.\u001b[0m\u001b[0mastype\u001b[0m\u001b[0;34m(\u001b[0m\u001b[0;34m\"object\"\u001b[0m\u001b[0;34m)\u001b[0m\u001b[0;34m)\u001b[0m \u001b[0;32mfor\u001b[0m \u001b[0mx\u001b[0m \u001b[0;32min\u001b[0m \u001b[0mto_concat\u001b[0m\u001b[0;34m]\u001b[0m\u001b[0;34m\u001b[0m\u001b[0;34m\u001b[0m\u001b[0m\n",
      "\u001b[0;31mKeyboardInterrupt\u001b[0m: "
     ]
    }
   ],
   "source": [
    "theDatasetPr.changeSource(0)\n",
    "theDatasetPr.preparationForPreConvolutive(2)\n",
    "theDatasetPr.changeSource(2)"
   ]
  },
  {
   "cell_type": "code",
   "execution_count": 13,
   "metadata": {},
   "outputs": [],
   "source": [
    "theDatasetPr.changeSource(0)\n",
    "theDatasetPr.preparationForPreConvolutive(1)\n",
    "theDatasetPr.changeSource(1)"
   ]
  },
  {
   "cell_type": "code",
   "execution_count": 51,
   "metadata": {},
   "outputs": [
    {
     "data": {
      "text/plain": [
       "(tensor([0.0000, 0.0000, 0.2390,  ..., 0.7185, 0.2627, 0.7738]), 2)"
      ]
     },
     "execution_count": 51,
     "metadata": {},
     "output_type": "execute_result"
    }
   ],
   "source": [
    "theDatasetPr[20]"
   ]
  },
  {
   "cell_type": "markdown",
   "metadata": {},
   "source": [
    "### Funciones de creación de dataloaders, de parámetros de entrenamiento y del modelo."
   ]
  },
  {
   "cell_type": "code",
   "execution_count": 30,
   "metadata": {},
   "outputs": [],
   "source": [
    "#DATALOADER\n",
    "def createDataloader(batch_size = 4, num_workers = 0, trainSize = 30000):\n",
    "    #shuffle = True\n",
    "    shuffle = False\n",
    "    #batch_size = 4\n",
    "    #num_workers = 0\n",
    "    #trainSize = 30000\n",
    "    valSize = len(theDatasetPr)-trainSize\n",
    "    #dataloader = DataLoader(dataset=theDatasetPr,\n",
    "    #                        shuffle=shuffle,\n",
    "    #                        batch_size=batch_size,\n",
    "    #                        num_workers=num_workers)\n",
    "\n",
    "    #test_ds, valid_ds = torch.utils.data.random_split(dataloader.dataset, (trainSize, valSize))\n",
    "    #test_ds, valid_ds = torch.utils.data.split(dataloader.dataset, (trainSize, valSize))\n",
    "    testLoader = DataLoader(dataset=test_ds,\n",
    "                            shuffle=shuffle,\n",
    "                            batch_size=batch_size,\n",
    "                            num_workers=num_workers)\n",
    "    validLoader = DataLoader(dataset=valid_ds,\n",
    "                            shuffle=shuffle,\n",
    "                            batch_size=batch_size,\n",
    "                            num_workers=num_workers)\n",
    "    print(validLoader.batch_size)\n",
    "    dataloaders = {'train': testLoader, 'val': validLoader}\n",
    "    dataset_sizes = {'train': trainSize, 'val': valSize}\n",
    "    return dataloaders,dataset_sizes\n",
    "#def resetNetModel():\n",
    "    \n",
    "def createTrainingError(model,lr=0.001):\n",
    "    criterion = nn.CrossEntropyLoss()\n",
    "    # Observe that only parameters of final layer are being optimized as\n",
    "    # opposed to before.\n",
    "    optimizer= optim.SGD(model.parameters(), lr, momentum=0.9)\n",
    "\n",
    "    # Decay LR by a factor of 0.1 every 7 epochs\n",
    "    exp_lr_scheduler = lr_scheduler.StepLR(optimizer, step_size=7, gamma=0.1)\n",
    "    return criterion,optimizer,exp_lr_scheduler\n",
    "\n",
    "def createModel(dropout=0.5):\n",
    "    \n",
    "    newModels = models.vgg16_bn(pretrained=True)\n",
    "    #No entrenamos la red vgg\n",
    "    for param in newModels.features.parameters():\n",
    "        param.require_grad = False\n",
    "\n",
    "    \n",
    "    device = torch.device(\"cuda:0\" if torch.cuda.is_available() else \"cpu\")\n",
    "    print(device)\n",
    "    newModels.to(device)\n",
    "    \n",
    "    nFeats = newModels.classifier[6].in_features\n",
    "    #nFeats = newModels.classifier[-1].in_features\n",
    "    feats = list(newModels.classifier.children())[:-4]\n",
    "    #feats = list(newModels.classifier.children())[:-1]\n",
    "    #nFeats = newModels.classifier[0].in_features\n",
    "    feats.extend([ nn.Linear(nFeats, len(theDatasetPr.classes))])\n",
    "\n",
    "    \n",
    "    feats[2] = nn.Dropout(p=dropout, inplace=False)\n",
    "    #feats[5] = nn.Dropout(p=dropout, inplace=False)\n",
    "    #feats.extend([ nn.Linear(nFeats, 3045),nn.Dropout(p=dropout, inplace=False),nn.ReLU(inplace=True)\n",
    "    #              ,nn.Linear(3045, 2025),nn.Dropout(p=dropout, inplace=False),nn.ReLU(inplace=True)\n",
    "    #              ,nn.Linear(2025, len(theDatasetPr.classes))])\n",
    "    newModels.classifier = nn.Sequential(*feats)\n",
    "    #netPr = netPr.to(device)\n",
    "    newModels.cuda()\n",
    "    \n",
    "    return newModels\n",
    "\n",
    "def newCreateModel(dropout=0.5):\n",
    "    #newModels = models.vgg16_bn(pretrained=True)\n",
    "    #nFeats = newModels.classifier[6].in_features\n",
    "    #feats = list(netPr.classifier.children())[:-1]\n",
    "    #feats.extend([ nn.Linear(nFeats, len(theDatasetPr.classes))])\n",
    "    #newModels.classifier = nn.Sequential(*feats)\n",
    "\n",
    "    newModels = specialVGG(createModel(dropout))\n",
    "    newModels.cuda()\n",
    "    return newModels;\n",
    "    #newModels = models.vgg16_bn(pretrained=True)\n",
    "    ##No entrenamos la red vgg\n",
    "    #for param in newModels.features.parameters():\n",
    "    #    param.require_grad = False\n",
    "    #\n",
    "    #device = torch.device(\"cuda:0\" if torch.cuda.is_available() else \"cpu\")\n",
    "    #print(device)\n",
    "    #newModels.to(device)\n",
    "    #\n",
    "    #nFeats = newModels.classifier[6].in_features\n",
    "    #feats = list(newModels.classifier.children())[:-1]\n",
    "    #feats.extend([ nn.Linear(nFeats, len(theDatasetPr.classes))])\n",
    "    #feats[2] = nn.Dropout(p=dropout, inplace=False)\n",
    "    #feats[5] = nn.Dropout(p=dropout, inplace=False)\n",
    "    #newModels.classifier = nn.Sequential(*feats)\n",
    "    ##netPr = netPr.to(device)\n",
    "    #newModels = specialVGG(newModels)\n",
    "    #\n",
    "    #newModels.cuda()\n",
    "    #return newModels\n",
    "\n",
    "#Pruebas del dataset\n",
    "#print(len(theDatasetPr))\n",
    "#print(len(dataloader))\n",
    "#print(len(test_ds))\n",
    "#print(len(valid_ds))\n",
    "#print(len(testLoader))\n",
    "#print(len(validLoader))\n",
    "#print(theDatasetPr.classes)\n",
    "#print(len(theDatasetPr.classes))\n",
    "#theDataset2[2][2]"
   ]
  },
  {
   "cell_type": "code",
   "execution_count": 15,
   "metadata": {},
   "outputs": [
    {
     "ename": "NameError",
     "evalue": "name 'classNet' is not defined",
     "output_type": "error",
     "traceback": [
      "\u001b[0;31m---------------------------------------------------------------------------\u001b[0m",
      "\u001b[0;31mNameError\u001b[0m                                 Traceback (most recent call last)",
      "\u001b[0;32m<ipython-input-15-c643f879cfd4>\u001b[0m in \u001b[0;36m<module>\u001b[0;34m\u001b[0m\n\u001b[0;32m----> 1\u001b[0;31m \u001b[0mprint\u001b[0m\u001b[0;34m(\u001b[0m\u001b[0mclassNet\u001b[0m\u001b[0;34m)\u001b[0m\u001b[0;34m\u001b[0m\u001b[0;34m\u001b[0m\u001b[0m\n\u001b[0m\u001b[1;32m      2\u001b[0m \u001b[0mprint\u001b[0m\u001b[0;34m(\u001b[0m\u001b[0mclassNet\u001b[0m\u001b[0;34m[\u001b[0m\u001b[0;36m2\u001b[0m\u001b[0;34m]\u001b[0m\u001b[0;34m.\u001b[0m\u001b[0mtype\u001b[0m\u001b[0;34m)\u001b[0m\u001b[0;34m\u001b[0m\u001b[0;34m\u001b[0m\u001b[0m\n",
      "\u001b[0;31mNameError\u001b[0m: name 'classNet' is not defined"
     ]
    }
   ],
   "source": [
    "print(classNet)\n",
    "print(classNet[2].type)"
   ]
  },
  {
   "cell_type": "markdown",
   "metadata": {},
   "source": [
    "## Ejecución"
   ]
  },
  {
   "cell_type": "code",
   "execution_count": 16,
   "metadata": {},
   "outputs": [
    {
     "name": "stdout",
     "output_type": "stream",
     "text": [
      "32\n"
     ]
    }
   ],
   "source": [
    "trainSize= 30000\n",
    "shuffle = True\n",
    "batch_size = 32\n",
    "num_workers = 0\n",
    "valSize = len(theDatasetPr)-trainSize\n",
    "dataloader = DataLoader(dataset=theDatasetPr,\n",
    "                            shuffle=shuffle,\n",
    "                            batch_size=batch_size,\n",
    "                            num_workers=num_workers)\n",
    "test_ds, valid_ds = torch.utils.data.random_split(dataloader.dataset, (trainSize, valSize))\n",
    "dataloads, dataset_sis = createDataloader(batch_size = batch_size, num_workers = 0, trainSize= trainSize)#trainSize = 30000)\n"
   ]
  },
  {
   "cell_type": "code",
   "execution_count": 21,
   "metadata": {},
   "outputs": [
    {
     "name": "stdout",
     "output_type": "stream",
     "text": [
      "451\n"
     ]
    }
   ],
   "source": [
    "print(len(dataloads['val']))"
   ]
  },
  {
   "cell_type": "code",
   "execution_count": 37,
   "metadata": {},
   "outputs": [
    {
     "name": "stdout",
     "output_type": "stream",
     "text": [
      "cuda:0\n"
     ]
    },
    {
     "data": {
      "text/plain": [
       "specialVGG(\n",
       "  (features): Sequential(\n",
       "    (0): Conv2d(3, 64, kernel_size=(3, 3), stride=(1, 1), padding=(1, 1))\n",
       "    (1): BatchNorm2d(64, eps=1e-05, momentum=0.1, affine=True, track_running_stats=True)\n",
       "    (2): ReLU(inplace=True)\n",
       "    (3): Conv2d(64, 64, kernel_size=(3, 3), stride=(1, 1), padding=(1, 1))\n",
       "    (4): BatchNorm2d(64, eps=1e-05, momentum=0.1, affine=True, track_running_stats=True)\n",
       "    (5): ReLU(inplace=True)\n",
       "    (6): MaxPool2d(kernel_size=2, stride=2, padding=0, dilation=1, ceil_mode=False)\n",
       "    (7): Conv2d(64, 128, kernel_size=(3, 3), stride=(1, 1), padding=(1, 1))\n",
       "    (8): BatchNorm2d(128, eps=1e-05, momentum=0.1, affine=True, track_running_stats=True)\n",
       "    (9): ReLU(inplace=True)\n",
       "    (10): Conv2d(128, 128, kernel_size=(3, 3), stride=(1, 1), padding=(1, 1))\n",
       "    (11): BatchNorm2d(128, eps=1e-05, momentum=0.1, affine=True, track_running_stats=True)\n",
       "    (12): ReLU(inplace=True)\n",
       "    (13): MaxPool2d(kernel_size=2, stride=2, padding=0, dilation=1, ceil_mode=False)\n",
       "    (14): Conv2d(128, 256, kernel_size=(3, 3), stride=(1, 1), padding=(1, 1))\n",
       "    (15): BatchNorm2d(256, eps=1e-05, momentum=0.1, affine=True, track_running_stats=True)\n",
       "    (16): ReLU(inplace=True)\n",
       "    (17): Conv2d(256, 256, kernel_size=(3, 3), stride=(1, 1), padding=(1, 1))\n",
       "    (18): BatchNorm2d(256, eps=1e-05, momentum=0.1, affine=True, track_running_stats=True)\n",
       "    (19): ReLU(inplace=True)\n",
       "    (20): Conv2d(256, 256, kernel_size=(3, 3), stride=(1, 1), padding=(1, 1))\n",
       "    (21): BatchNorm2d(256, eps=1e-05, momentum=0.1, affine=True, track_running_stats=True)\n",
       "    (22): ReLU(inplace=True)\n",
       "    (23): MaxPool2d(kernel_size=2, stride=2, padding=0, dilation=1, ceil_mode=False)\n",
       "    (24): Conv2d(256, 512, kernel_size=(3, 3), stride=(1, 1), padding=(1, 1))\n",
       "    (25): BatchNorm2d(512, eps=1e-05, momentum=0.1, affine=True, track_running_stats=True)\n",
       "    (26): ReLU(inplace=True)\n",
       "    (27): Conv2d(512, 512, kernel_size=(3, 3), stride=(1, 1), padding=(1, 1))\n",
       "    (28): BatchNorm2d(512, eps=1e-05, momentum=0.1, affine=True, track_running_stats=True)\n",
       "    (29): ReLU(inplace=True)\n",
       "    (30): Conv2d(512, 512, kernel_size=(3, 3), stride=(1, 1), padding=(1, 1))\n",
       "    (31): BatchNorm2d(512, eps=1e-05, momentum=0.1, affine=True, track_running_stats=True)\n",
       "    (32): ReLU(inplace=True)\n",
       "    (33): MaxPool2d(kernel_size=2, stride=2, padding=0, dilation=1, ceil_mode=False)\n",
       "    (34): Conv2d(512, 512, kernel_size=(3, 3), stride=(1, 1), padding=(1, 1))\n",
       "    (35): BatchNorm2d(512, eps=1e-05, momentum=0.1, affine=True, track_running_stats=True)\n",
       "    (36): ReLU(inplace=True)\n",
       "  )\n",
       "  (newFeatures): Sequential(\n",
       "    (37): Conv2d(512, 512, kernel_size=(3, 3), stride=(1, 1), padding=(1, 1))\n",
       "    (38): BatchNorm2d(512, eps=1e-05, momentum=0.1, affine=True, track_running_stats=True)\n",
       "    (39): ReLU(inplace=True)\n",
       "    (40): Conv2d(512, 512, kernel_size=(3, 3), stride=(1, 1), padding=(1, 1))\n",
       "    (41): BatchNorm2d(512, eps=1e-05, momentum=0.1, affine=True, track_running_stats=True)\n",
       "    (42): ReLU(inplace=True)\n",
       "    (43): MaxPool2d(kernel_size=2, stride=2, padding=0, dilation=1, ceil_mode=False)\n",
       "  )\n",
       "  (avgpool): AdaptiveAvgPool2d(output_size=(7, 7))\n",
       "  (classifier): Sequential(\n",
       "    (0): Linear(in_features=25088, out_features=4096, bias=True)\n",
       "    (1): ReLU(inplace=True)\n",
       "    (2): Dropout(p=0.5, inplace=False)\n",
       "    (3): Linear(in_features=4096, out_features=143, bias=True)\n",
       "  )\n",
       ")"
      ]
     },
     "execution_count": 37,
     "metadata": {},
     "output_type": "execute_result"
    }
   ],
   "source": [
    "torch.cuda.reset_max_memory_allocated()\n",
    "torch.cuda.reset_max_memory_cached()\n",
    "\n",
    "classNets = None\n",
    "#classNets = createModel(0.5)\n",
    "#classNet = nn.Sequential(*list(classNets.children())[2])\n",
    "classNet = newCreateModel(0.5)\n",
    "\n",
    "#dataloads, dataset_sis = createDataloader(batch_size = 64, num_workers = 0, trainSize = 30000)\n",
    "\n",
    "crit,opts, exp_lr_scheds = createTrainingError(classNet,lr=0.003920274771701523)\n",
    "\n",
    "classNet.eval()\n",
    "\n",
    "\n",
    "\n"
   ]
  },
  {
   "cell_type": "code",
   "execution_count": 38,
   "metadata": {},
   "outputs": [
    {
     "data": {
      "image/png": "[encoded data removed]",
      "text/plain": [
       "<Figure size 864x576 with 2 Axes>"
      ]
     },
     "metadata": {
      "needs_background": "light"
     },
     "output_type": "display_data"
    },
    {
     "name": "stdout",
     "output_type": "stream",
     "text": [
      "accuracy\n",
      "\ttraining         \t (min:    0.670, max:    1.000, cur:    1.000)\n",
      "\tvalidation       \t (min:    0.823, max:    0.873, cur:    0.873)\n",
      "log loss\n",
      "\ttraining         \t (min:    0.002, max:    1.449, cur:    0.003)\n",
      "\tvalidation       \t (min:    0.531, max:    0.972, cur:    0.657)\n",
      "Training complete in 64m 16s\n",
      "Best val Acc: 0.872807\n"
     ]
    }
   ],
   "source": [
    "#### dataloads = {'train': dataloads['val'], 'val':dataloads['train']}\n",
    "theDatasetPr.changeSource(1);\n",
    "crit,opts, exp_lr_scheds = createTrainingError(classNet,lr=0.003920274771701523)\n",
    "classNet,loss = train_model(classNet, crit, opts, exp_lr_scheds,dataloads,dataset_sis,num_epochs=30)"
   ]
  },
  {
   "cell_type": "code",
   "execution_count": 40,
   "metadata": {},
   "outputs": [],
   "source": [
    "torch.save(classNet.state_dict(), \"./datosVGG_sarticleType32_2netsmidConvV3\")"
   ]
  },
  {
   "cell_type": "code",
   "execution_count": 18,
   "metadata": {},
   "outputs": [
    {
     "ename": "RuntimeError",
     "evalue": "Error(s) in loading state_dict for Sequential:\n\tMissing key(s) in state_dict: \"0.weight\", \"0.bias\", \"3.weight\", \"3.bias\". \n\tUnexpected key(s) in state_dict: \"features.0.weight\", \"features.0.bias\", \"features.1.weight\", \"features.1.bias\", \"features.1.running_mean\", \"features.1.running_var\", \"features.1.num_batches_tracked\", \"features.3.weight\", \"features.3.bias\", \"features.4.weight\", \"features.4.bias\", \"features.4.running_mean\", \"features.4.running_var\", \"features.4.num_batches_tracked\", \"features.7.weight\", \"features.7.bias\", \"features.8.weight\", \"features.8.bias\", \"features.8.running_mean\", \"features.8.running_var\", \"features.8.num_batches_tracked\", \"features.10.weight\", \"features.10.bias\", \"features.11.weight\", \"features.11.bias\", \"features.11.running_mean\", \"features.11.running_var\", \"features.11.num_batches_tracked\", \"features.14.weight\", \"features.14.bias\", \"features.15.weight\", \"features.15.bias\", \"features.15.running_mean\", \"features.15.running_var\", \"features.15.num_batches_tracked\", \"features.17.weight\", \"features.17.bias\", \"features.18.weight\", \"features.18.bias\", \"features.18.running_mean\", \"features.18.running_var\", \"features.18.num_batches_tracked\", \"features.20.weight\", \"features.20.bias\", \"features.21.weight\", \"features.21.bias\", \"features.21.running_mean\", \"features.21.running_var\", \"features.21.num_batches_tracked\", \"features.24.weight\", \"features.24.bias\", \"features.25.weight\", \"features.25.bias\", \"features.25.running_mean\", \"features.25.running_var\", \"features.25.num_batches_tracked\", \"features.27.weight\", \"features.27.bias\", \"features.28.weight\", \"features.28.bias\", \"features.28.running_mean\", \"features.28.running_var\", \"features.28.num_batches_tracked\", \"features.30.weight\", \"features.30.bias\", \"features.31.weight\", \"features.31.bias\", \"features.31.running_mean\", \"features.31.running_var\", \"features.31.num_batches_tracked\", \"features.34.weight\", \"features.34.bias\", \"features.35.weight\", \"features.35.bias\", \"features.35.running_mean\", \"features.35.running_var\", \"features.35.num_batches_tracked\", \"newFeatures.37.weight\", \"newFeatures.37.bias\", \"newFeatures.38.weight\", \"newFeatures.38.bias\", \"newFeatures.38.running_mean\", \"newFeatures.38.running_var\", \"newFeatures.38.num_batches_tracked\", \"newFeatures.40.weight\", \"newFeatures.40.bias\", \"newFeatures.41.weight\", \"newFeatures.41.bias\", \"newFeatures.41.running_mean\", \"newFeatures.41.running_var\", \"newFeatures.41.num_batches_tracked\", \"classifier.0.weight\", \"classifier.0.bias\", \"classifier.3.weight\", \"classifier.3.bias\", \"classifier.6.weight\", \"classifier.6.bias\". ",
     "output_type": "error",
     "traceback": [
      "\u001b[0;31m---------------------------------------------------------------------------\u001b[0m",
      "\u001b[0;31mRuntimeError\u001b[0m                              Traceback (most recent call last)",
      "\u001b[0;32m<ipython-input-18-14cf825fc4b3>\u001b[0m in \u001b[0;36m<module>\u001b[0;34m\u001b[0m\n\u001b[0;32m----> 1\u001b[0;31m \u001b[0mclassNet\u001b[0m\u001b[0;34m.\u001b[0m\u001b[0mload_state_dict\u001b[0m\u001b[0;34m(\u001b[0m\u001b[0mtorch\u001b[0m\u001b[0;34m.\u001b[0m\u001b[0mload\u001b[0m\u001b[0;34m(\u001b[0m\u001b[0;34m\"./datosVGG_subCategory\"\u001b[0m\u001b[0;34m)\u001b[0m\u001b[0;34m)\u001b[0m \u001b[0;31m#Debe ser de tipo specialVgg\u001b[0m\u001b[0;34m\u001b[0m\u001b[0;34m\u001b[0m\u001b[0m\n\u001b[0m",
      "\u001b[0;32m/usr/local/lib/python3.6/dist-packages/torch/nn/modules/module.py\u001b[0m in \u001b[0;36mload_state_dict\u001b[0;34m(self, state_dict, strict)\u001b[0m\n\u001b[1;32m    843\u001b[0m         \u001b[0;32mif\u001b[0m \u001b[0mlen\u001b[0m\u001b[0;34m(\u001b[0m\u001b[0merror_msgs\u001b[0m\u001b[0;34m)\u001b[0m \u001b[0;34m>\u001b[0m \u001b[0;36m0\u001b[0m\u001b[0;34m:\u001b[0m\u001b[0;34m\u001b[0m\u001b[0;34m\u001b[0m\u001b[0m\n\u001b[1;32m    844\u001b[0m             raise RuntimeError('Error(s) in loading state_dict for {}:\\n\\t{}'.format(\n\u001b[0;32m--> 845\u001b[0;31m                                self.__class__.__name__, \"\\n\\t\".join(error_msgs)))\n\u001b[0m\u001b[1;32m    846\u001b[0m         \u001b[0;32mreturn\u001b[0m \u001b[0m_IncompatibleKeys\u001b[0m\u001b[0;34m(\u001b[0m\u001b[0mmissing_keys\u001b[0m\u001b[0;34m,\u001b[0m \u001b[0munexpected_keys\u001b[0m\u001b[0;34m)\u001b[0m\u001b[0;34m\u001b[0m\u001b[0;34m\u001b[0m\u001b[0m\n\u001b[1;32m    847\u001b[0m \u001b[0;34m\u001b[0m\u001b[0m\n",
      "\u001b[0;31mRuntimeError\u001b[0m: Error(s) in loading state_dict for Sequential:\n\tMissing key(s) in state_dict: \"0.weight\", \"0.bias\", \"3.weight\", \"3.bias\". \n\tUnexpected key(s) in state_dict: \"features.0.weight\", \"features.0.bias\", \"features.1.weight\", \"features.1.bias\", \"features.1.running_mean\", \"features.1.running_var\", \"features.1.num_batches_tracked\", \"features.3.weight\", \"features.3.bias\", \"features.4.weight\", \"features.4.bias\", \"features.4.running_mean\", \"features.4.running_var\", \"features.4.num_batches_tracked\", \"features.7.weight\", \"features.7.bias\", \"features.8.weight\", \"features.8.bias\", \"features.8.running_mean\", \"features.8.running_var\", \"features.8.num_batches_tracked\", \"features.10.weight\", \"features.10.bias\", \"features.11.weight\", \"features.11.bias\", \"features.11.running_mean\", \"features.11.running_var\", \"features.11.num_batches_tracked\", \"features.14.weight\", \"features.14.bias\", \"features.15.weight\", \"features.15.bias\", \"features.15.running_mean\", \"features.15.running_var\", \"features.15.num_batches_tracked\", \"features.17.weight\", \"features.17.bias\", \"features.18.weight\", \"features.18.bias\", \"features.18.running_mean\", \"features.18.running_var\", \"features.18.num_batches_tracked\", \"features.20.weight\", \"features.20.bias\", \"features.21.weight\", \"features.21.bias\", \"features.21.running_mean\", \"features.21.running_var\", \"features.21.num_batches_tracked\", \"features.24.weight\", \"features.24.bias\", \"features.25.weight\", \"features.25.bias\", \"features.25.running_mean\", \"features.25.running_var\", \"features.25.num_batches_tracked\", \"features.27.weight\", \"features.27.bias\", \"features.28.weight\", \"features.28.bias\", \"features.28.running_mean\", \"features.28.running_var\", \"features.28.num_batches_tracked\", \"features.30.weight\", \"features.30.bias\", \"features.31.weight\", \"features.31.bias\", \"features.31.running_mean\", \"features.31.running_var\", \"features.31.num_batches_tracked\", \"features.34.weight\", \"features.34.bias\", \"features.35.weight\", \"features.35.bias\", \"features.35.running_mean\", \"features.35.running_var\", \"features.35.num_batches_tracked\", \"newFeatures.37.weight\", \"newFeatures.37.bias\", \"newFeatures.38.weight\", \"newFeatures.38.bias\", \"newFeatures.38.running_mean\", \"newFeatures.38.running_var\", \"newFeatures.38.num_batches_tracked\", \"newFeatures.40.weight\", \"newFeatures.40.bias\", \"newFeatures.41.weight\", \"newFeatures.41.bias\", \"newFeatures.41.running_mean\", \"newFeatures.41.running_var\", \"newFeatures.41.num_batches_tracked\", \"classifier.0.weight\", \"classifier.0.bias\", \"classifier.3.weight\", \"classifier.3.bias\", \"classifier.6.weight\", \"classifier.6.bias\". "
     ]
    }
   ],
   "source": [
    "classNet.load_state_dict(torch.load(\"./datosVGG_subCategory\")) #Debe ser de tipo specialVgg"
   ]
  },
  {
   "cell_type": "code",
   "execution_count": 17,
   "metadata": {},
   "outputs": [
    {
     "name": "stdout",
     "output_type": "stream",
     "text": [
      "Sequential(\n",
      "  (0): Linear(in_features=25088, out_features=4096, bias=True)\n",
      "  (1): ReLU(inplace=True)\n",
      "  (2): Dropout(p=0.5, inplace=False)\n",
      "  (3): Linear(in_features=4096, out_features=143, bias=True)\n",
      ")\n"
     ]
    }
   ],
   "source": []
  },
  {
   "cell_type": "code",
   "execution_count": 35,
   "metadata": {},
   "outputs": [
    {
     "name": "stdout",
     "output_type": "stream",
     "text": [
      "0.6995981844443456\n",
      " \n",
      " \n",
      "Shirts \t\t\t 3215.0 \t\t\n",
      " Val% 97.41379310344827 \t\t   Train% 100.0 \t\t   VT 1044.0 \t\t   TT 2171.0 \n",
      "\n",
      "Jeans \t\t\t 608.0 \t\t\n",
      " Val% 91.28205128205128 \t\t   Train% 100.0 \t\t   VT 195.0 \t\t   TT 413.0 \n",
      "\n",
      "Watches \t\t\t 2542.0 \t\t\n",
      " Val% 98.83990719257541 \t\t   Train% 100.0 \t\t   VT 862.0 \t\t   TT 1680.0 \n",
      "\n",
      "Track Pants \t\t\t 304.0 \t\t\n",
      " Val% 76.53061224489795 \t\t   Train% 100.0 \t\t   VT 98.0 \t\t   TT 206.0 \n",
      "\n",
      "Tshirts \t\t\t 7066.0 \t\t\n",
      " Val% 94.65311533362792 \t\t   Train% 100.0 \t\t   VT 2263.0 \t\t   TT 4803.0 \n",
      "\n",
      "Socks \t\t\t 686.0 \t\t\n",
      " Val% 96.98492462311557 \t\t   Train% 100.0 \t\t   VT 199.0 \t\t   TT 487.0 \n",
      "\n",
      "Casual Shoes \t\t\t 2845.0 \t\t\n",
      " Val% 81.8848167539267 \t\t   Train% 100.0 \t\t   VT 955.0 \t\t   TT 1890.0 \n",
      "\n",
      "Belts \t\t\t 813.0 \t\t\n",
      " Val% 99.21875 \t\t   Train% 100.0 \t\t   VT 256.0 \t\t   TT 557.0 \n",
      "\n",
      "Flip Flops \t\t\t 914.0 \t\t\n",
      " Val% 90.07633587786259 \t\t   Train% 100.0 \t\t   VT 262.0 \t\t   TT 652.0 \n",
      "\n",
      "Handbags \t\t\t 1759.0 \t\t\n",
      " Val% 93.6842105263158 \t\t   Train% 100.0 \t\t   VT 570.0 \t\t   TT 1189.0 \n",
      "\n",
      "Tops \t\t\t 1762.0 \t\t\n",
      " Val% 74.62406015037594 \t\t   Train% 100.0 \t\t   VT 532.0 \t\t   TT 1230.0 \n",
      "\n",
      "Bra \t\t\t 477.0 \t\t\n",
      " Val% 97.16312056737588 \t\t   Train% 100.0 \t\t   VT 141.0 \t\t   TT 336.0 \n",
      "\n",
      "Sandals \t\t\t 897.0 \t\t\n",
      " Val% 85.91549295774648 \t\t   Train% 100.0 \t\t   VT 284.0 \t\t   TT 613.0 \n",
      "\n",
      "Shoe Accessories \t\t\t 23.0 \t\t\n",
      " Val% 27.272727272727273 \t\t   Train% 100.0 \t\t   VT 11.0 \t\t   TT 12.0 \n",
      "\n",
      "Sweatshirts \t\t\t 285.0 \t\t\n",
      " Val% 71.57894736842105 \t\t   Train% 100.0 \t\t   VT 95.0 \t\t   TT 190.0 \n",
      "\n",
      "Deodorant \t\t\t 347.0 \t\t\n",
      " Val% 92.03539823008849 \t\t   Train% 100.0 \t\t   VT 113.0 \t\t   TT 234.0 \n",
      "\n",
      "Formal Shoes \t\t\t 637.0 \t\t\n",
      " Val% 85.64593301435407 \t\t   Train% 100.0 \t\t   VT 209.0 \t\t   TT 428.0 \n",
      "\n",
      "Bracelet \t\t\t 66.0 \t\t\n",
      " Val% 60.869565217391305 \t\t   Train% 100.0 \t\t   VT 23.0 \t\t   TT 43.0 \n",
      "\n",
      "Lipstick \t\t\t 315.0 \t\t\n",
      " Val% 97.16981132075472 \t\t   Train% 100.0 \t\t   VT 106.0 \t\t   TT 209.0 \n",
      "\n",
      "Flats \t\t\t 500.0 \t\t\n",
      " Val% 21.05263157894737 \t\t   Train% 100.0 \t\t   VT 171.0 \t\t   TT 329.0 \n",
      "\n",
      "Kurtas \t\t\t 1844.0 \t\t\n",
      " Val% 93.27586206896552 \t\t   Train% 100.0 \t\t   VT 580.0 \t\t   TT 1264.0 \n",
      "\n",
      "Waistcoat \t\t\t 15.0 \t\t\n",
      " Val% 0.0 \t\t   Train% 100.0 \t\t   VT 1.0 \t\t   TT 14.0 \n",
      "\n",
      "Sports Shoes \t\t\t 2036.0 \t\t\n",
      " Val% 87.22139673105498 \t\t   Train% 100.0 \t\t   VT 673.0 \t\t   TT 1363.0 \n",
      "\n",
      "Shorts \t\t\t 547.0 \t\t\n",
      " Val% 90.81632653061224 \t\t   Train% 100.0 \t\t   VT 196.0 \t\t   TT 351.0 \n",
      "\n",
      "Briefs \t\t\t 849.0 \t\t\n",
      " Val% 95.94594594594595 \t\t   Train% 100.0 \t\t   VT 296.0 \t\t   TT 553.0 \n",
      "\n",
      "Sarees \t\t\t 427.0 \t\t\n",
      " Val% 97.22222222222223 \t\t   Train% 100.0 \t\t   VT 144.0 \t\t   TT 283.0 \n",
      "\n",
      "Perfume and Body Mist \t\t\t 613.0 \t\t\n",
      " Val% 94.27083333333333 \t\t   Train% 100.0 \t\t   VT 192.0 \t\t   TT 421.0 \n",
      "\n",
      "Heels \t\t\t 1323.0 \t\t\n",
      " Val% 87.71084337349397 \t\t   Train% 100.0 \t\t   VT 415.0 \t\t   TT 908.0 \n",
      "\n",
      "Sunglasses \t\t\t 1073.0 \t\t\n",
      " Val% 100.0 \t\t   Train% 100.0 \t\t   VT 345.0 \t\t   TT 728.0 \n",
      "\n",
      "Innerwear Vests \t\t\t 242.0 \t\t\n",
      " Val% 84.72222222222223 \t\t   Train% 100.0 \t\t   VT 72.0 \t\t   TT 170.0 \n",
      "\n",
      "Pendant \t\t\t 176.0 \t\t\n",
      " Val% 68.85245901639344 \t\t   Train% 100.0 \t\t   VT 61.0 \t\t   TT 115.0 \n",
      "\n",
      "Nail Polish \t\t\t 329.0 \t\t\n",
      " Val% 98.41269841269842 \t\t   Train% 100.0 \t\t   VT 126.0 \t\t   TT 203.0 \n",
      "\n",
      "Laptop Bag \t\t\t 82.0 \t\t\n",
      " Val% 23.80952380952381 \t\t   Train% 100.0 \t\t   VT 21.0 \t\t   TT 61.0 \n",
      "\n",
      "Scarves \t\t\t 119.0 \t\t\n",
      " Val% 61.111111111111114 \t\t   Train% 100.0 \t\t   VT 36.0 \t\t   TT 83.0 \n",
      "\n",
      "Rain Jacket \t\t\t 18.0 \t\t\n",
      " Val% 20.0 \t\t   Train% 100.0 \t\t   VT 5.0 \t\t   TT 13.0 \n",
      "\n",
      "Dresses \t\t\t 464.0 \t\t\n",
      " Val% 64.15094339622641 \t\t   Train% 100.0 \t\t   VT 159.0 \t\t   TT 305.0 \n",
      "\n",
      "Night suits \t\t\t 141.0 \t\t\n",
      " Val% 88.88888888888889 \t\t   Train% 100.0 \t\t   VT 54.0 \t\t   TT 87.0 \n",
      "\n",
      "Skirts \t\t\t 128.0 \t\t\n",
      " Val% 73.33333333333333 \t\t   Train% 100.0 \t\t   VT 45.0 \t\t   TT 83.0 \n",
      "\n",
      "Wallets \t\t\t 936.0 \t\t\n",
      " Val% 95.02923976608187 \t\t   Train% 100.0 \t\t   VT 342.0 \t\t   TT 594.0 \n",
      "\n",
      "Blazers \t\t\t 8.0 \t\t\n",
      " Val% 0.0 \t\t   Train% 100.0 \t\t   VT 3.0 \t\t   TT 5.0 \n",
      "\n",
      "Ring \t\t\t 118.0 \t\t\n",
      " Val% 92.3076923076923 \t\t   Train% 100.0 \t\t   VT 39.0 \t\t   TT 79.0 \n",
      "\n",
      "Kurta Sets \t\t\t 94.0 \t\t\n",
      " Val% 96.96969696969697 \t\t   Train% 100.0 \t\t   VT 33.0 \t\t   TT 61.0 \n",
      "\n",
      "Clutches \t\t\t 290.0 \t\t\n",
      " Val% 66.66666666666667 \t\t   Train% 100.0 \t\t   VT 81.0 \t\t   TT 209.0 \n",
      "\n",
      "Shrug \t\t\t 6.0 \t\t\n",
      " Val% 0.0 \t\t   Train% 100.0 \t\t   VT 3.0 \t\t   TT 3.0 \n",
      "\n",
      "Backpacks \t\t\t 724.0 \t\t\n",
      " Val% 94.56066945606695 \t\t   Train% 100.0 \t\t   VT 239.0 \t\t   TT 485.0 \n",
      "\n",
      "Caps \t\t\t 283.0 \t\t\n",
      " Val% 97.87234042553192 \t\t   Train% 100.0 \t\t   VT 94.0 \t\t   TT 189.0 \n",
      "\n",
      "Trousers \t\t\t 530.0 \t\t\n",
      " Val% 89.41176470588235 \t\t   Train% 100.0 \t\t   VT 170.0 \t\t   TT 360.0 \n",
      "\n",
      "Earrings \t\t\t 416.0 \t\t\n",
      " Val% 96.7741935483871 \t\t   Train% 100.0 \t\t   VT 155.0 \t\t   TT 261.0 \n",
      "\n",
      "Camisoles \t\t\t 39.0 \t\t\n",
      " Val% 37.5 \t\t   Train% 100.0 \t\t   VT 8.0 \t\t   TT 31.0 \n",
      "\n",
      "Boxers \t\t\t 52.0 \t\t\n",
      " Val% 60.0 \t\t   Train% 100.0 \t\t   VT 15.0 \t\t   TT 37.0 \n",
      "\n",
      "Jewellery Set \t\t\t 58.0 \t\t\n",
      " Val% 56.0 \t\t   Train% 100.0 \t\t   VT 25.0 \t\t   TT 33.0 \n",
      "\n",
      "Dupatta \t\t\t 116.0 \t\t\n",
      " Val% 60.0 \t\t   Train% 100.0 \t\t   VT 40.0 \t\t   TT 76.0 \n",
      "\n",
      "Capris \t\t\t 175.0 \t\t\n",
      " Val% 68.08510638297872 \t\t   Train% 100.0 \t\t   VT 47.0 \t\t   TT 128.0 \n",
      "\n",
      "Lip Gloss \t\t\t 144.0 \t\t\n",
      " Val% 88.88888888888889 \t\t   Train% 100.0 \t\t   VT 45.0 \t\t   TT 99.0 \n",
      "\n",
      "Bath Robe \t\t\t 20.0 \t\t\n",
      " Val% 42.857142857142854 \t\t   Train% 100.0 \t\t   VT 7.0 \t\t   TT 13.0 \n",
      "\n",
      "Mufflers \t\t\t 38.0 \t\t\n",
      " Val% 63.63636363636363 \t\t   Train% 100.0 \t\t   VT 11.0 \t\t   TT 27.0 \n",
      "\n",
      "Tunics \t\t\t 229.0 \t\t\n",
      " Val% 10.606060606060606 \t\t   Train% 100.0 \t\t   VT 66.0 \t\t   TT 163.0 \n",
      "\n",
      "Jackets \t\t\t 258.0 \t\t\n",
      " Val% 69.84126984126983 \t\t   Train% 100.0 \t\t   VT 63.0 \t\t   TT 195.0 \n",
      "\n",
      "Trunk \t\t\t 140.0 \t\t\n",
      " Val% 92.6829268292683 \t\t   Train% 100.0 \t\t   VT 41.0 \t\t   TT 99.0 \n",
      "\n",
      "Lounge Pants \t\t\t 61.0 \t\t\n",
      " Val% 47.61904761904762 \t\t   Train% 100.0 \t\t   VT 21.0 \t\t   TT 40.0 \n",
      "\n",
      "Face Wash and Cleanser \t\t\t 28.0 \t\t\n",
      " Val% 45.45454545454545 \t\t   Train% 100.0 \t\t   VT 11.0 \t\t   TT 17.0 \n",
      "\n",
      "Necklace and Chains \t\t\t 160.0 \t\t\n",
      " Val% 91.2280701754386 \t\t   Train% 100.0 \t\t   VT 57.0 \t\t   TT 103.0 \n",
      "\n",
      "Duffel Bag \t\t\t 88.0 \t\t\n",
      " Val% 65.78947368421052 \t\t   Train% 100.0 \t\t   VT 38.0 \t\t   TT 50.0 \n",
      "\n",
      "Sports Sandals \t\t\t 67.0 \t\t\n",
      " Val% 16.666666666666668 \t\t   Train% 100.0 \t\t   VT 24.0 \t\t   TT 43.0 \n",
      "\n",
      "Foundation and Primer \t\t\t 76.0 \t\t\n",
      " Val% 78.26086956521739 \t\t   Train% 100.0 \t\t   VT 23.0 \t\t   TT 53.0 \n",
      "\n",
      "Sweaters \t\t\t 277.0 \t\t\n",
      " Val% 71.76470588235294 \t\t   Train% 100.0 \t\t   VT 85.0 \t\t   TT 192.0 \n",
      "\n",
      "Free Gifts \t\t\t 91.0 \t\t\n",
      " Val% 6.451612903225806 \t\t   Train% 100.0 \t\t   VT 31.0 \t\t   TT 60.0 \n",
      "\n",
      "Trolley Bag \t\t\t 3.0 \t\t\n",
      " Val% 0.0 \t\t   Train% 100.0 \t\t   VT 1.0 \t\t   TT 2.0 \n",
      "\n",
      "Tracksuits \t\t\t 29.0 \t\t\n",
      " Val% 100.0 \t\t   Train% 100.0 \t\t   VT 9.0 \t\t   TT 20.0 \n",
      "\n",
      "Swimwear \t\t\t 17.0 \t\t\n",
      " Val% 50.0 \t\t   Train% 100.0 \t\t   VT 6.0 \t\t   TT 11.0 \n",
      "\n",
      "Shoe Laces \t\t\t 1.0 \t\t\n",
      " Val% 0.0 \t\t   Train% 100.0 \t\t   VT 0.0 \t\t   TT 1.0 \n",
      "\n",
      "Fragrance Gift Set \t\t\t 57.0 \t\t\n",
      " Val% 41.1764705882353 \t\t   Train% 100.0 \t\t   VT 17.0 \t\t   TT 40.0 \n",
      "\n",
      "Bangle \t\t\t 85.0 \t\t\n",
      " Val% 60.714285714285715 \t\t   Train% 100.0 \t\t   VT 28.0 \t\t   TT 57.0 \n",
      "\n",
      "Nightdress \t\t\t 189.0 \t\t\n",
      " Val% 67.12328767123287 \t\t   Train% 100.0 \t\t   VT 73.0 \t\t   TT 116.0 \n",
      "\n",
      "Ties \t\t\t 263.0 \t\t\n",
      " Val% 97.43589743589743 \t\t   Train% 100.0 \t\t   VT 78.0 \t\t   TT 185.0 \n",
      "\n",
      "Baby Dolls \t\t\t 16.0 \t\t\n",
      " Val% 0.0 \t\t   Train% 100.0 \t\t   VT 4.0 \t\t   TT 12.0 \n",
      "\n",
      "Leggings \t\t\t 177.0 \t\t\n",
      " Val% 77.19298245614036 \t\t   Train% 100.0 \t\t   VT 57.0 \t\t   TT 120.0 \n",
      "\n",
      "Highlighter and Blush \t\t\t 53.0 \t\t\n",
      " Val% 59.09090909090909 \t\t   Train% 100.0 \t\t   VT 22.0 \t\t   TT 31.0 \n",
      "\n",
      "Travel Accessory \t\t\t 16.0 \t\t\n",
      " Val% 0.0 \t\t   Train% 100.0 \t\t   VT 6.0 \t\t   TT 10.0 \n",
      "\n",
      "Kurtis \t\t\t 234.0 \t\t\n",
      " Val% 27.710843373493976 \t\t   Train% 100.0 \t\t   VT 83.0 \t\t   TT 151.0 \n",
      "\n",
      "Mobile Pouch \t\t\t 47.0 \t\t\n",
      " Val% 16.666666666666668 \t\t   Train% 100.0 \t\t   VT 12.0 \t\t   TT 35.0 \n",
      "\n",
      "Messenger Bag \t\t\t 44.0 \t\t\n",
      " Val% 41.666666666666664 \t\t   Train% 100.0 \t\t   VT 12.0 \t\t   TT 32.0 \n",
      "\n",
      "Lip Care \t\t\t 16.0 \t\t\n",
      " Val% 100.0 \t\t   Train% 100.0 \t\t   VT 2.0 \t\t   TT 14.0 \n",
      "\n",
      "Face Moisturisers \t\t\t 61.0 \t\t\n",
      " Val% 31.57894736842105 \t\t   Train% 100.0 \t\t   VT 19.0 \t\t   TT 42.0 \n",
      "\n",
      "Compact \t\t\t 49.0 \t\t\n",
      " Val% 90.9090909090909 \t\t   Train% 100.0 \t\t   VT 11.0 \t\t   TT 38.0 \n",
      "\n",
      "Eye Cream \t\t\t 6.0 \t\t\n",
      " Val% 0.0 \t\t   Train% 100.0 \t\t   VT 2.0 \t\t   TT 4.0 \n",
      "\n",
      "Accessory Gift Set \t\t\t 97.0 \t\t\n",
      " Val% 97.14285714285714 \t\t   Train% 100.0 \t\t   VT 35.0 \t\t   TT 62.0 \n",
      "\n",
      "Beauty Accessory \t\t\t 4.0 \t\t\n",
      " Val% 0.0 \t\t   Train% 100.0 \t\t   VT 1.0 \t\t   TT 3.0 \n",
      "\n",
      "Jumpsuit \t\t\t 16.0 \t\t\n",
      " Val% 0.0 \t\t   Train% 100.0 \t\t   VT 2.0 \t\t   TT 14.0 \n",
      "\n",
      "Kajal and Eyeliner \t\t\t 102.0 \t\t\n",
      " Val% 90.9090909090909 \t\t   Train% 100.0 \t\t   VT 44.0 \t\t   TT 58.0 \n",
      "\n",
      "Water Bottle \t\t\t 11.0 \t\t\n",
      " Val% 0.0 \t\t   Train% 100.0 \t\t   VT 2.0 \t\t   TT 9.0 \n",
      "\n",
      "Suspenders \t\t\t 40.0 \t\t\n",
      " Val% 92.3076923076923 \t\t   Train% 100.0 \t\t   VT 13.0 \t\t   TT 27.0 \n",
      "\n",
      "Lip Liner \t\t\t 48.0 \t\t\n",
      " Val% 80.0 \t\t   Train% 100.0 \t\t   VT 10.0 \t\t   TT 38.0 \n",
      "\n",
      "Robe \t\t\t 4.0 \t\t\n",
      " Val% 0.0 \t\t   Train% 100.0 \t\t   VT 2.0 \t\t   TT 2.0 \n",
      "\n",
      "Salwar and Dupatta \t\t\t 7.0 \t\t\n",
      " Val% 66.66666666666667 \t\t   Train% 100.0 \t\t   VT 3.0 \t\t   TT 4.0 \n",
      "\n",
      "Patiala \t\t\t 38.0 \t\t\n",
      " Val% 66.66666666666667 \t\t   Train% 100.0 \t\t   VT 12.0 \t\t   TT 26.0 \n",
      "\n",
      "Stockings \t\t\t 32.0 \t\t\n",
      " Val% 90.0 \t\t   Train% 100.0 \t\t   VT 10.0 \t\t   TT 22.0 \n",
      "\n",
      "Eyeshadow \t\t\t 42.0 \t\t\n",
      " Val% 66.66666666666667 \t\t   Train% 100.0 \t\t   VT 12.0 \t\t   TT 30.0 \n",
      "\n",
      "Headband \t\t\t 7.0 \t\t\n",
      " Val% 0.0 \t\t   Train% 100.0 \t\t   VT 5.0 \t\t   TT 2.0 \n",
      "\n",
      "Tights \t\t\t 9.0 \t\t\n",
      " Val% 25.0 \t\t   Train% 100.0 \t\t   VT 4.0 \t\t   TT 5.0 \n",
      "\n",
      "Nail Essentials \t\t\t 6.0 \t\t\n",
      " Val% 0.0 \t\t   Train% 100.0 \t\t   VT 2.0 \t\t   TT 4.0 \n",
      "\n",
      "Churidar \t\t\t 30.0 \t\t\n",
      " Val% 37.5 \t\t   Train% 100.0 \t\t   VT 16.0 \t\t   TT 14.0 \n",
      "\n",
      "Lounge Tshirts \t\t\t 3.0 \t\t\n",
      " Val% 0.0 \t\t   Train% 100.0 \t\t   VT 1.0 \t\t   TT 2.0 \n",
      "\n",
      "Face Scrub and Exfoliator \t\t\t 5.0 \t\t\n",
      " Val% 0.0 \t\t   Train% 100.0 \t\t   VT 2.0 \t\t   TT 3.0 \n",
      "\n",
      "Lounge Shorts \t\t\t 34.0 \t\t\n",
      " Val% 14.285714285714286 \t\t   Train% 100.0 \t\t   VT 7.0 \t\t   TT 27.0 \n",
      "\n",
      "Gloves \t\t\t 20.0 \t\t\n",
      " Val% 100.0 \t\t   Train% 100.0 \t\t   VT 6.0 \t\t   TT 14.0 \n",
      "\n",
      "Mask and Peel \t\t\t 12.0 \t\t\n",
      " Val% 66.66666666666667 \t\t   Train% 100.0 \t\t   VT 3.0 \t\t   TT 9.0 \n",
      "\n",
      "Wristbands \t\t\t 7.0 \t\t\n",
      " Val% 33.333333333333336 \t\t   Train% 100.0 \t\t   VT 3.0 \t\t   TT 4.0 \n",
      "\n",
      "Tablet Sleeve \t\t\t 3.0 \t\t\n",
      " Val% 0.0 \t\t   Train% 100.0 \t\t   VT 2.0 \t\t   TT 1.0 \n",
      "\n",
      "Ties and Cufflinks \t\t\t 2.0 \t\t\n",
      " Val% 0.0 \t\t   Train% 100.0 \t\t   VT 1.0 \t\t   TT 1.0 \n",
      "\n",
      "Footballs \t\t\t 8.0 \t\t\n",
      " Val% 0.0 \t\t   Train% 100.0 \t\t   VT 2.0 \t\t   TT 6.0 \n",
      "\n",
      "Stoles \t\t\t 90.0 \t\t\n",
      " Val% 72.0 \t\t   Train% 100.0 \t\t   VT 25.0 \t\t   TT 65.0 \n",
      "\n",
      "Shapewear \t\t\t 9.0 \t\t\n",
      " Val% 0.0 \t\t   Train% 100.0 \t\t   VT 4.0 \t\t   TT 5.0 \n",
      "\n",
      "Nehru Jackets \t\t\t 5.0 \t\t\n",
      " Val% 0.0 \t\t   Train% 100.0 \t\t   VT 1.0 \t\t   TT 4.0 \n",
      "\n",
      "Salwar \t\t\t 32.0 \t\t\n",
      " Val% 54.54545454545455 \t\t   Train% 100.0 \t\t   VT 11.0 \t\t   TT 21.0 \n",
      "\n",
      "Cufflinks \t\t\t 106.0 \t\t\n",
      " Val% 91.42857142857143 \t\t   Train% 100.0 \t\t   VT 35.0 \t\t   TT 71.0 \n",
      "\n",
      "Jeggings \t\t\t 34.0 \t\t\n",
      " Val% 7.6923076923076925 \t\t   Train% 100.0 \t\t   VT 13.0 \t\t   TT 21.0 \n",
      "\n",
      "Hair Colour \t\t\t 19.0 \t\t\n",
      " Val% 50.0 \t\t   Train% 100.0 \t\t   VT 4.0 \t\t   TT 15.0 \n",
      "\n",
      "Concealer \t\t\t 11.0 \t\t\n",
      " Val% 20.0 \t\t   Train% 100.0 \t\t   VT 5.0 \t\t   TT 6.0 \n",
      "\n",
      "Rompers \t\t\t 12.0 \t\t\n",
      " Val% 60.0 \t\t   Train% 100.0 \t\t   VT 5.0 \t\t   TT 7.0 \n",
      "\n",
      "Body Lotion \t\t\t 6.0 \t\t\n",
      " Val% 50.0 \t\t   Train% 100.0 \t\t   VT 2.0 \t\t   TT 4.0 \n",
      "\n",
      "Sunscreen \t\t\t 25.0 \t\t\n",
      " Val% 88.88888888888889 \t\t   Train% 100.0 \t\t   VT 9.0 \t\t   TT 16.0 \n",
      "\n",
      "Booties \t\t\t 12.0 \t\t\n",
      " Val% 100.0 \t\t   Train% 100.0 \t\t   VT 4.0 \t\t   TT 8.0 \n",
      "\n",
      "Waist Pouch \t\t\t 17.0 \t\t\n",
      " Val% 60.0 \t\t   Train% 100.0 \t\t   VT 5.0 \t\t   TT 12.0 \n",
      "\n",
      "Hair Accessory \t\t\t 1.0 \t\t\n",
      " Val% 0.0 \t\t   Train% 0.0 \t\t   VT 1.0 \t\t   TT 0.0 \n",
      "\n",
      "Rucksacks \t\t\t 11.0 \t\t\n",
      " Val% 0.0 \t\t   Train% 100.0 \t\t   VT 1.0 \t\t   TT 10.0 \n",
      "\n",
      "Basketballs \t\t\t 13.0 \t\t\n",
      " Val% 100.0 \t\t   Train% 100.0 \t\t   VT 6.0 \t\t   TT 7.0 \n",
      "\n",
      "Lehenga Choli \t\t\t 4.0 \t\t\n",
      " Val% 0.0 \t\t   Train% 100.0 \t\t   VT 3.0 \t\t   TT 1.0 \n",
      "\n",
      "Clothing Set \t\t\t 8.0 \t\t\n",
      " Val% 0.0 \t\t   Train% 100.0 \t\t   VT 4.0 \t\t   TT 4.0 \n",
      "\n",
      "Mascara \t\t\t 13.0 \t\t\n",
      " Val% 50.0 \t\t   Train% 100.0 \t\t   VT 2.0 \t\t   TT 11.0 \n",
      "\n",
      "Toner \t\t\t 5.0 \t\t\n",
      " Val% 0.0 \t\t   Train% 100.0 \t\t   VT 3.0 \t\t   TT 2.0 \n",
      "\n",
      "Cushion Covers \t\t\t 1.0 \t\t\n",
      " Val% 0.0 \t\t   Train% 100.0 \t\t   VT 0.0 \t\t   TT 1.0 \n",
      "\n",
      "Key chain \t\t\t 2.0 \t\t\n",
      " Val% 0.0 \t\t   Train% 100.0 \t\t   VT 1.0 \t\t   TT 1.0 \n",
      "\n",
      "Makeup Remover \t\t\t 4.0 \t\t\n",
      " Val% 0.0 \t\t   Train% 100.0 \t\t   VT 1.0 \t\t   TT 3.0 \n",
      "\n",
      "Lip Plumper \t\t\t 4.0 \t\t\n",
      " Val% 0.0 \t\t   Train% 100.0 \t\t   VT 1.0 \t\t   TT 3.0 \n",
      "\n",
      "Umbrellas \t\t\t 6.0 \t\t\n",
      " Val% 100.0 \t\t   Train% 100.0 \t\t   VT 1.0 \t\t   TT 5.0 \n",
      "\n",
      "Face Serum and Gel \t\t\t 2.0 \t\t\n",
      " Val% 0.0 \t\t   Train% 100.0 \t\t   VT 0.0 \t\t   TT 2.0 \n",
      "\n",
      "Hat \t\t\t 3.0 \t\t\n",
      " Val% 0.0 \t\t   Train% 100.0 \t\t   VT 0.0 \t\t   TT 3.0 \n",
      "\n",
      "Mens Grooming Kit \t\t\t 1.0 \t\t\n",
      " Val% 0.0 \t\t   Train% 100.0 \t\t   VT 0.0 \t\t   TT 1.0 \n",
      "\n",
      "Rain Trousers \t\t\t 2.0 \t\t\n",
      " Val% 0.0 \t\t   Train% 0.0 \t\t   VT 2.0 \t\t   TT 0.0 \n",
      "\n",
      "Body Wash and Scrub \t\t\t 1.0 \t\t\n",
      " Val% 0.0 \t\t   Train% 100.0 \t\t   VT 0.0 \t\t   TT 1.0 \n",
      "\n",
      "Suits \t\t\t 0.0 \t\t\n",
      " Val% 0.0 \t\t   Train% 0.0 \t\t   VT 0.0 \t\t   TT 0.0 \n",
      "\n",
      "Ipad \t\t\t 1.0 \t\t\n",
      " Val% 0.0 \t\t   Train% 0.0 \t\t   VT 1.0 \t\t   TT 0.0 \n",
      "\n"
     ]
    }
   ],
   "source": [
    "print(loss)\n",
    "class_success(dataloads)"
   ]
  },
  {
   "cell_type": "markdown",
   "metadata": {},
   "source": [
    "## Optimización de hiperparámetros\n",
    "Declaramos el espacio de búsqueda y la función objetivo a minimizar y finalmente imprimimos los resultados para obtener los valores óptimos."
   ]
  },
  {
   "cell_type": "code",
   "execution_count": 26,
   "metadata": {},
   "outputs": [],
   "source": [
    "SPACE = [\n",
    "   skopt.space.Real(0.001, 0.05, name='learning_rate', prior='log-uniform') #0.001\n",
    "   ,skopt.space.Integer(25, 64, name='the_batch_size'),\n",
    "   skopt.space.Real(0.1, 0.9, name='dropout') \n",
    "]"
   ]
  },
  {
   "cell_type": "code",
   "execution_count": 27,
   "metadata": {},
   "outputs": [],
   "source": [
    "## PARA MAÑANA COGER TRAIN_DS Y VALID_DS Y SACARLOS DEL MÉTODO PARA TENER YA SEPARADOS LOS COJUNTOS DE DATOS. LUEGO CON ESO \n",
    "## PODEMOS CAMBIAR EL BATCH_SIZE AL CARGARLOS EN LOS DATALOADERS \n",
    "def objective(params):\n",
    "    torch.cuda.reset_max_memory_allocated()\n",
    "    torch.cuda.reset_max_memory_cached()\n",
    "    print(params)\n",
    "    learning_rate  = params[0]\n",
    "    the_batch_size = int(params[1])\n",
    "    dropout = params[2]\n",
    "    #classNet = createModel()\n",
    "    #classNet = nn.Sequential(*list(classNet.children())[2])\n",
    "    dataloas, dataset_sis = createDataloader(batch_size = the_batch_size, num_workers = 0, trainSize = 30000)\n",
    "    #createTrainingError(classNet,lr=learning_rate)\n",
    "    #classNet,loss = train_model(classNet, criterion, optimizer, exp_lr_scheduler,dataloaders,dataset_sizes,num_epochs=2)\n",
    "    classNets = None\n",
    "    classNets = createModel(dropout)\n",
    "    classNet = nn.Sequential(*list(classNets.children())[2])\n",
    "\n",
    "    \n",
    "    \n",
    "    crit,opts, exp_lr_scheds = createTrainingError(classNet,lr=learning_rate)\n",
    "    \n",
    "    classNet,loss = train_model(classNet, crit, opts, exp_lr_scheds,dataloads,dataset_sis,num_epochs=10)\n",
    "    print(loss)\n",
    "    return loss"
   ]
  },
  {
   "cell_type": "code",
   "execution_count": 28,
   "metadata": {},
   "outputs": [
    {
     "data": {
      "image/png": "[encoded data removed]",
      "text/plain": [
       "<Figure size 864x576 with 2 Axes>"
      ]
     },
     "metadata": {
      "needs_background": "light"
     },
     "output_type": "display_data"
    },
    {
     "name": "stdout",
     "output_type": "stream",
     "text": [
      "accuracy\n",
      "\ttraining         \t (min:    0.338, max:    1.000, cur:    0.967)\n",
      "\tvalidation       \t (min:    0.350, max:    0.945, cur:    0.932)\n",
      "log loss\n",
      "\ttraining         \t (min:    0.002, max:    1.215, cur:    0.128)\n",
      "\tvalidation       \t (min:    0.248, max:    0.588, cur:    0.256)\n",
      "Training complete in 3m 40s\n",
      "Best val Acc: 0.932103\n",
      "0.2558497565479581\n"
     ]
    }
   ],
   "source": [
    "#dataloads, dataset_sis = createDataloader(batch_size = 64, num_workers = 0, trainSize = 30000)\n",
    "valSize = len(theDatasetPr)-trainSize\n",
    "dataloader = DataLoader(dataset=theDatasetPr,\n",
    "                            shuffle=shuffle,\n",
    "                            batch_size=batch_size,\n",
    "                            num_workers=num_workers)\n",
    "test_ds, valid_ds = torch.utils.data.random_split(dataloader.dataset, (trainSize, valSize))\n",
    "results = skopt.forest_minimize(objective, SPACE,n_calls=10)\n"
   ]
  },
  {
   "cell_type": "code",
   "execution_count": 29,
   "metadata": {},
   "outputs": [
    {
     "name": "stdout",
     "output_type": "stream",
     "text": [
      "          fun: 0.24789328859102727\n",
      "    func_vals: array([3.00321474e-01, 3.07487706e-01, 2.93404083e-01, 2.99515453e-01,\n",
      "       3.11585319e-01, 2.89569149e-01, 2.47893289e-01, 1.00000000e+06,\n",
      "       2.57635079e-01, 2.55849757e-01])\n",
      "       models: [ExtraTreesRegressor(bootstrap=False, criterion='mse', max_depth=None,\n",
      "                    max_features='auto', max_leaf_nodes=None,\n",
      "                    min_impurity_decrease=0.0, min_samples_leaf=3,\n",
      "                    min_samples_split=2, min_variance=0.0,\n",
      "                    min_weight_fraction_leaf=0.0, n_estimators=100, n_jobs=1,\n",
      "                    oob_score=False, random_state=1860657894, verbose=0,\n",
      "                    warm_start=False)]\n",
      " random_state: RandomState(MT19937) at 0x7F078411F888\n",
      "        space: Space([Real(low=0.001, high=0.05, prior='log-uniform', transform='identity'),\n",
      "       Integer(low=25, high=64, prior='uniform', transform='identity'),\n",
      "       Real(low=0.1, high=0.9, prior='uniform', transform='identity')])\n",
      "        specs: {'args': {'model_queue_size': None, 'n_jobs': 1, 'kappa': 1.96, 'xi': 0.01, 'n_restarts_optimizer': 5, 'n_points': 10000, 'callback': None, 'verbose': False, 'random_state': None, 'y0': None, 'x0': None, 'acq_optimizer': 'sampling', 'acq_func': 'EI', 'n_random_starts': 10, 'n_calls': 10, 'base_estimator': 'ET', 'dimensions': [Real(low=0.001, high=0.05, prior='log-uniform', transform='identity'), Integer(low=25, high=64, prior='uniform', transform='identity'), Real(low=0.1, high=0.9, prior='uniform', transform='identity')], 'func': <function objective at 0x7f06dd621bf8>}, 'function': 'base_minimize'}\n",
      "            x: [0.0019009880231564207, 64, 0.46105543689668205]\n",
      "      x_iters: [[0.012459209511591067, 25, 0.2988649223725143], [0.03044175022110453, 62, 0.3649293587237393], [0.006033887579497929, 51, 0.4570912300930857], [0.04271300481721508, 55, 0.3412636042801743], [0.020634021582874616, 38, 0.11023465205892996], [0.006591482843994153, 31, 0.11282436758626471], [0.0019009880231564207, 64, 0.46105543689668205], [0.03342503642279546, 54, 0.8400091327886657], [0.002292499752683956, 58, 0.25113185782492387], [0.0012118039418552596, 58, 0.5208492098739967]]\n"
     ]
    }
   ],
   "source": [
    "print(results)\n"
   ]
  },
  {
   "cell_type": "code",
   "execution_count": null,
   "metadata": {},
   "outputs": [],
   "source": []
  }
 ],
 "metadata": {
  "kernelspec": {
   "display_name": "Python 3",
   "language": "python",
   "name": "python3"
  },
  "language_info": {
   "codemirror_mode": {
    "name": "ipython",
    "version": 3
   },
   "file_extension": ".py",
   "mimetype": "text/x-python",
   "name": "python",
   "nbconvert_exporter": "python",
   "pygments_lexer": "ipython3",
   "version": "3.6.8"
  }
 },
 "nbformat": 4,
 "nbformat_minor": 4
}
